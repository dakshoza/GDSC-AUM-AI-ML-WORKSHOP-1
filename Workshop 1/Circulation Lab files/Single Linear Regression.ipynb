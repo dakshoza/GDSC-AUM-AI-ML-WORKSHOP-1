{
  "cells": [
    {
      "cell_type": "markdown",
      "metadata": {
        "id": "IX44jCc9XvY6"
      },
      "source": [
        "# Single Linear Regression\n",
        "\n",
        "# Note: Please follow all naming conventions as taught in the workshop"
      ]
    },
    {
      "cell_type": "markdown",
      "metadata": {
        "id": "ENpRC2AcqG8J"
      },
      "source": [
        "Run the cell below"
      ]
    },
    {
      "cell_type": "code",
      "execution_count": 2,
      "metadata": {
        "id": "MB1vFh2mp4M4"
      },
      "outputs": [],
      "source": [
        "import math\n",
        "import matplotlib.pyplot as plt"
      ]
    },
    {
      "cell_type": "markdown",
      "metadata": {
        "id": "nNZeU4yQo88t"
      },
      "source": [
        "Lets import numpy\n",
        "\n",
        "numpy: NumPy is a fundamental library for numerical and mathematical operations in Python. It offers support for multi-dimensional arrays and matrices, making it crucial for scientific and mathematical computations. Numpy adds datatypes like arrays and features such as vectorization.\n",
        "\n",
        "\n",
        "\n",
        "\n",
        "\n",
        "\n"
      ]
    },
    {
      "cell_type": "code",
      "execution_count": 3,
      "metadata": {
        "id": "m8PgB3rmaSgz"
      },
      "outputs": [],
      "source": [
        "import numpy as np"
      ]
    },
    {
      "cell_type": "markdown",
      "metadata": {
        "id": "SH2_qa2Vq-9B"
      },
      "source": [
        "We create input variable 'x_train' with two training examples representing Previous Score of the student.\n",
        "\n",
        "Likewise, we create target variable 'y_train' with two values for our training examples representing the Performance Index of the student."
      ]
    },
    {
      "cell_type": "markdown",
      "metadata": {
        "id": "GrKL3F4Gfkqc"
      },
      "source": [
        "\n",
        "![image.png](data:image/png;base64,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)"
      ]
    },
    {
      "cell_type": "code",
      "execution_count": 4,
      "metadata": {
        "colab": {
          "base_uri": "https://localhost:8080/"
        },
        "id": "LV0ZxLLKaSeO",
        "outputId": "da424493-a5ac-42cc-f7d7-5059c78c57ae"
      },
      "outputs": [
        {
          "output_type": "stream",
          "name": "stdout",
          "text": [
            "x_train = [0.99 0.51]\n",
            "y_train = [91. 45.]\n"
          ]
        }
      ],
      "source": [
        "x_train = np.array([0.99, 0.51])\n",
        "y_train = np.array([91.0, 45.0])\n",
        "print(f\"x_train = {x_train}\")\n",
        "print(f\"y_train = {y_train}\")"
      ]
    },
    {
      "cell_type": "markdown",
      "metadata": {
        "id": "c63Uoh2KrrCA"
      },
      "source": [
        "Extracting input dimensions can be done in two ways\n",
        "1. using '.shape()' method of array"
      ]
    },
    {
      "cell_type": "code",
      "execution_count": 5,
      "metadata": {
        "colab": {
          "base_uri": "https://localhost:8080/"
        },
        "id": "oHmPRm9AaSbn",
        "outputId": "227a86c9-3ec4-4da8-9fba-4d7c02d56edf"
      },
      "outputs": [
        {
          "output_type": "stream",
          "name": "stdout",
          "text": [
            "2\n"
          ]
        }
      ],
      "source": [
        "m = x_train.shape[0]\n",
        "print(m)"
      ]
    },
    {
      "cell_type": "markdown",
      "metadata": {
        "id": "o_Z3frZmr-u6"
      },
      "source": [
        "2. using 'len()' method in python"
      ]
    },
    {
      "cell_type": "code",
      "execution_count": 6,
      "metadata": {
        "colab": {
          "base_uri": "https://localhost:8080/"
        },
        "id": "nILy6qxLaSY_",
        "outputId": "981d82f4-0afa-4fa0-ba0a-efa6a379967a"
      },
      "outputs": [
        {
          "output_type": "stream",
          "name": "stdout",
          "text": [
            "2\n"
          ]
        }
      ],
      "source": [
        "m = len(x_train)\n",
        "print(m)"
      ]
    },
    {
      "cell_type": "markdown",
      "metadata": {
        "id": "trf-BQa0sIyk"
      },
      "source": [
        "Run the cell below to visualize our data"
      ]
    },
    {
      "cell_type": "code",
      "execution_count": 7,
      "metadata": {
        "colab": {
          "base_uri": "https://localhost:8080/",
          "height": 472
        },
        "id": "zes0p_hOaSUc",
        "outputId": "f4659190-4a7d-41e8-8662-8c8eb15f02bd"
      },
      "outputs": [
        {
          "output_type": "display_data",
          "data": {
            "text/plain": [
              "<Figure size 640x480 with 1 Axes>"
            ],
            "image/png": "[encoded data removed]"
          },
          "metadata": {}
        }
      ],
      "source": [
        "# Plot the data points\n",
        "plt.scatter(x_train, y_train, marker='o', c='black')\n",
        "# Set the title\n",
        "plt.title(\"Student Performance\")\n",
        "# Set the y-axis label\n",
        "plt.ylabel('Performance Index')\n",
        "# Set the x-axis label\n",
        "plt.xlabel('Previous Score (x100)')\n",
        "plt.show()"
      ]
    },
    {
      "cell_type": "markdown",
      "metadata": {
        "id": "PGOz84wcsrlM"
      },
      "source": [
        "Run the cell below to set ideal weight and bias values for prediction"
      ]
    },
    {
      "cell_type": "code",
      "execution_count": 8,
      "metadata": {
        "colab": {
          "base_uri": "https://localhost:8080/"
        },
        "id": "aBRPV-y6aSSK",
        "outputId": "ff929691-ce55-48b2-a014-466cd8910592"
      },
      "outputs": [
        {
          "output_type": "stream",
          "name": "stdout",
          "text": [
            "w: 94.2231\n",
            "b: -2.6217\n"
          ]
        }
      ],
      "source": [
        "w = 94.2231\n",
        "b = -2.6217\n",
        "print(f\"w: {w}\")\n",
        "print(f\"b: {b}\")"
      ]
    },
    {
      "cell_type": "markdown",
      "metadata": {
        "id": "SSlcEyARsyY8"
      },
      "source": [
        "This is your first task! You need to write the code to predict the output $f_{w,b}(x^{(i)})$ which is:\n",
        "\n",
        "$$f_{w,b}(x^{(i)}) = wx^{(i)} + b \\tag{1}$$\n"
      ]
    },
    {
      "cell_type": "code",
      "execution_count": 9,
      "metadata": {
        "id": "q1SC2RgiaSPl"
      },
      "outputs": [],
      "source": [
        "def compute_model_output(x, w, b):\n",
        "    \"\"\"\n",
        "    Computes the prediction of a linear model\n",
        "      x (ndarray (m,)): input data, m examples\n",
        "      w,b (scalar)    : model parameters\n",
        "    Returns\n",
        "      y (ndarray (m,)): target values\n",
        "    \"\"\"\n",
        "    m = x.shape[0]\n",
        "    f_wb = np.zeros(m)\n",
        "\n",
        "    # write code here\n",
        "    for i in range(m):\n",
        "      f_wb[i] = w * x[i] + b\n",
        "    # finish code\n",
        "\n",
        "    return f_wb"
      ]
    },
    {
      "cell_type": "markdown",
      "metadata": {
        "id": "BheVQm_Ifkqh"
      },
      "source": [
        "Run the cell below to test your code"
      ]
    },
    {
      "cell_type": "code",
      "execution_count": 10,
      "metadata": {
        "colab": {
          "base_uri": "https://localhost:8080/"
        },
        "id": "uMWb8Ux4fkqh",
        "outputId": "61023b80-eaff-45e2-974f-81f41c2fdc38"
      },
      "outputs": [
        {
          "output_type": "stream",
          "name": "stdout",
          "text": [
            "Correct.\n"
          ]
        }
      ],
      "source": [
        "# Test cases\n",
        "temp_x = np.array([1, 2, 3, 4])\n",
        "temp_w = 2\n",
        "temp_b = 1\n",
        "\n",
        "# Calculate the expected output\n",
        "expected_output = np.array([3, 5, 7, 9])\n",
        "\n",
        "# Call the function with the input values\n",
        "output = compute_model_output(temp_x, temp_w, temp_b)\n",
        "# Check if the output matches the expected output\n",
        "if np.array_equal(output, expected_output):\n",
        "    print(\"Correct.\")\n",
        "else:\n",
        "    print(\"Not correct.\")\n",
        "\n",
        "# We determine the desired outcome and design a test case with x, w, and b.\n",
        "# The compute_model_output function is then called with these inputs, and the expected and actual outputs are compared.\n",
        "# It will display \"Output is correct\" if they match and \"Output is not correct\" if they don't."
      ]
    },
    {
      "cell_type": "markdown",
      "metadata": {
        "id": "FefSHk2huRfn"
      },
      "source": [
        "Lets plot the line to see if it fits our output"
      ]
    },
    {
      "cell_type": "code",
      "execution_count": 11,
      "metadata": {
        "colab": {
          "base_uri": "https://localhost:8080/",
          "height": 472
        },
        "id": "GzNuBABbaSM0",
        "outputId": "e685c6d8-2c68-44bb-fc20-ce8691a4104c"
      },
      "outputs": [
        {
          "output_type": "display_data",
          "data": {
            "text/plain": [
              "<Figure size 640x480 with 1 Axes>"
            ],
            "image/png": "[encoded data removed]"
          },
          "metadata": {}
        }
      ],
      "source": [
        "tmp_f_wb = compute_model_output(x_train, w, b,)\n",
        "\n",
        "# Plot our model prediction\n",
        "plt.plot(x_train, tmp_f_wb, c='b',label='Our Prediction')\n",
        "\n",
        "# Plot the data points\n",
        "plt.scatter(x_train, y_train, marker='x', c='r',label='Actual Values')\n",
        "\n",
        "# Set the title\n",
        "plt.title(\"Student Performance\")\n",
        "# Set the y-axis label\n",
        "plt.ylabel('Performance Index')\n",
        "# Set the x-axis label\n",
        "plt.xlabel('Previous Score (x100)')\n",
        "plt.legend()\n",
        "plt.show()"
      ]
    },
    {
      "cell_type": "markdown",
      "metadata": {
        "id": "2VY-UGb6uq39"
      },
      "source": [
        "Lets make a prediction using the function you wrote"
      ]
    },
    {
      "cell_type": "code",
      "execution_count": 12,
      "metadata": {
        "colab": {
          "base_uri": "https://localhost:8080/"
        },
        "id": "qes1v3TpaSKV",
        "outputId": "5df5c1d4-7b78-4d15-9833-e8063c925bb7"
      },
      "outputs": [
        {
          "output_type": "stream",
          "name": "stdout",
          "text": [
            "59 marks in the next exam\n"
          ]
        }
      ],
      "source": [
        "x_i = 0.65\n",
        "performance_prediction = w * x_i + b\n",
        "\n",
        "print(f\"{performance_prediction:.0f} marks in the next exam\")"
      ]
    },
    {
      "cell_type": "markdown",
      "metadata": {
        "id": "gOw54GuKvDFs"
      },
      "source": [
        "Cost is a measure how well our model is predicting the target price of the house.\n",
        "\n",
        "The equation for cost with one variable is:\n",
        "  $$J(w,b) = \\frac{1}{2m} \\sum\\limits_{i = 0}^{m-1} (f_{w,b}(x^{(i)}) - y^{(i)})^2 \\tag{2}$$\n",
        "\n",
        "where\n",
        "  $$f_{w,b}(x^{(i)}) = wx^{(i)} + b$$\n",
        "  \n",
        "- $f_{w,b}(x^{(i)})$ is our prediction for example $i$ using parameters $w,b$.  \n",
        "\n",
        "- $(f_{w,b}(x^{(i)}) -y^{(i)})^2$ is the squared difference between the target value and the prediction.   \n",
        "\n",
        "- These differences are summed over all the $m$ examples and divided by `2m` to produce the cost, $J(w,b)$.  \n",
        "\n"
      ]
    },
    {
      "cell_type": "code",
      "execution_count": 13,
      "metadata": {
        "id": "MOdedNwOfzUd"
      },
      "outputs": [],
      "source": [
        "def compute_cost(x, y, w, b):\n",
        "    \"\"\"\n",
        "    Computes the cost function for linear regression.\n",
        "\n",
        "    Args:\n",
        "      x (ndarray (m,)): Data, m examples\n",
        "      y (ndarray (m,)): target values\n",
        "      w,b (scalar)    : model parameters\n",
        "\n",
        "    Returns\n",
        "        total_cost (float): The cost of using w,b as the parameters for linear regression\n",
        "               to fit the data points in x and y\n",
        "    \"\"\"\n",
        "\n",
        "    m = x.shape[0]\n",
        "\n",
        "    # write code here\n",
        "    cost_sum = 0\n",
        "    for i in range(m):\n",
        "        f_wb = w * x[i] + b\n",
        "        cost = (f_wb - y[i]) ** 2\n",
        "        cost_sum = cost_sum + cost\n",
        "    total_cost = (1 / (2 * m)) * cost_sum\n",
        "    # finish code\n",
        "\n",
        "    return total_cost"
      ]
    },
    {
      "cell_type": "markdown",
      "metadata": {
        "id": "UCw08Lgifkqi"
      },
      "source": [
        "Run the cell below to test your code"
      ]
    },
    {
      "cell_type": "code",
      "execution_count": 14,
      "metadata": {
        "id": "34hGNtfkfkqi",
        "colab": {
          "base_uri": "https://localhost:8080/"
        },
        "outputId": "0223a059-48dd-4544-e509-ff00b6a820a2"
      },
      "outputs": [
        {
          "output_type": "stream",
          "name": "stdout",
          "text": [
            "Correct\n"
          ]
        }
      ],
      "source": [
        "# Define example data and model parameters\n",
        "temp_x = np.array([1, 2, 3, 4, 5])  # Input data\n",
        "temp_y = np.array([2, 4, 6, 8, 10])  # Target values\n",
        "temp_w = 2.0  # Model parameter (slope)\n",
        "temp_b = 0.0  # Model parameter (intercept)\n",
        "\n",
        "# Expected cost (for the provided data and parameters)\n",
        "temp_expected_cost = 0.0\n",
        "\n",
        "# Call the compute_cost function to calculate the cost\n",
        "temp_calculated_cost = compute_cost(temp_x, temp_y, temp_w, temp_b)\n",
        "\n",
        "# Check if the calculated cost matches the expected cost\n",
        "if temp_calculated_cost == temp_expected_cost:\n",
        "    print(\"Correct\")\n",
        "else:\n",
        "    print(\"Not Correct\")"
      ]
    },
    {
      "cell_type": "markdown",
      "metadata": {
        "id": "75J-f6uFwEbz"
      },
      "source": [
        "Run the cell below to print the cost for our prediction on the data"
      ]
    },
    {
      "cell_type": "code",
      "execution_count": 15,
      "metadata": {
        "id": "R3svFAmbfzQP",
        "colab": {
          "base_uri": "https://localhost:8080/"
        },
        "outputId": "b4310b66-21af-4ac6-fab9-dc1875000c60"
      },
      "outputs": [
        {
          "output_type": "stream",
          "name": "stdout",
          "text": [
            "0.07571494028050227\n"
          ]
        }
      ],
      "source": [
        "print(compute_cost(x_train, y_train, w, b))"
      ]
    },
    {
      "cell_type": "markdown",
      "metadata": {
        "id": "wRV3oImHhU6m"
      },
      "source": [
        "The primary purpose of Gradient descent is to find the minimum of the function. This is done to converge to the optimal values of weights and bias, so that our predictions have minimum error, creating accurate results.\n",
        "\n",
        "We define it as:\n",
        "\n",
        "$$\\begin{align*} \\text{repeat}&\\text{ until convergence:} \\; \\lbrace \\newline\n",
        "\\;  w &= w -  \\alpha \\frac{\\partial J(w,b)}{\\partial w} \\tag{3}  \\; \\newline\n",
        " b &= b -  \\alpha \\frac{\\partial J(w,b)}{\\partial b}  \\newline \\rbrace\n",
        "\\end{align*}\n",
        "$$\n",
        "\n",
        "where, parameters $w$, $b$ are updated simultaneously.  \n",
        "The gradient is defined as:\n",
        "$$\n",
        "\\begin{align}\n",
        "\\frac{\\partial J(w,b)}{\\partial w}  &= \\frac{1}{m} \\sum\\limits_{i = 0}^{m-1} (f_{w,b}(x^{(i)}) - y^{(i)})x^{(i)} \\tag{4}\\\\\n",
        "  \\frac{\\partial J(w,b)}{\\partial b}  &= \\frac{1}{m} \\sum\\limits_{i = 0}^{m-1} (f_{w,b}(x^{(i)}) - y^{(i)}) \\tag{5}\\\\\n",
        "\\end{align}\n",
        "$$\n",
        "\n",
        "Here *simultaniously* means that you calculate the partial derivatives for all the parameters before updating any of the parameters."
      ]
    },
    {
      "cell_type": "markdown",
      "metadata": {
        "id": "Vzo60XjMhh86"
      },
      "source": [
        "<a name=\"toc_40291_2.2\"></a>\n",
        "## Implement Gradient Descent\n",
        "You will implement gradient descent algorithm for one feature. You will need three functions.\n",
        "- `compute_gradient` implementing equation (4) and (5) above\n",
        "- `compute_cost` implementing equation (2) above\n",
        "- `gradient_descent`, utilizing compute_gradient and compute_cost\n"
      ]
    },
    {
      "cell_type": "markdown",
      "metadata": {
        "id": "3A3AKKQUh8hv"
      },
      "source": [
        "<a name=\"toc_40291_2.3\"></a>\n",
        "### compute_gradient\n",
        "<a name='ex-01'></a>\n",
        "`compute_gradient`  implements (4) and (5) above and returns $\\frac{\\partial J(w,b)}{\\partial w}$,$\\frac{\\partial J(w,b)}{\\partial b}$. The embedded comments describe the operations."
      ]
    },
    {
      "cell_type": "code",
      "execution_count": 16,
      "metadata": {
        "id": "fODKoW3UfzNk"
      },
      "outputs": [],
      "source": [
        "def compute_gradient(x, y, w, b):\n",
        "    \"\"\"\n",
        "    Computes the gradient for linear regression\n",
        "    Args:\n",
        "      x (ndarray (m,)): input data, m examples\n",
        "      y (ndarray (m,)): target values\n",
        "      w,b (scalar)    : model parameters\n",
        "    Returns\n",
        "      dj_dw (scalar): The gradient of the cost w.r.t. the parameters w\n",
        "      dj_db (scalar): The gradient of the cost w.r.t. the parameter b\n",
        "     \"\"\"\n",
        "\n",
        "    m = x.shape[0]\n",
        "    dj_dw = 0\n",
        "    dj_db = 0\n",
        "\n",
        "    # write code here\n",
        "    for i in range(m):\n",
        "      f_wb = w*x[i] + b\n",
        "      tempgradient_w = (f_wb - y[i])*x[i]\n",
        "      tempgradient_b = (f_wb-y[i])\n",
        "      dj_dw = dj_dw + tempgradient_w\n",
        "      dj_db = dj_db + tempgradient_b\n",
        "      dj_dw = dj_dw/m\n",
        "      dj_db = dj_db/m\n",
        "    # finish code\n",
        "\n",
        "    return dj_dw, dj_db"
      ]
    },
    {
      "cell_type": "markdown",
      "metadata": {
        "id": "lHDCVgT-fkqk"
      },
      "source": [
        "Run the  cell below to test your code."
      ]
    },
    {
      "cell_type": "code",
      "execution_count": 17,
      "metadata": {
        "id": "_OTygi5rfkqk",
        "colab": {
          "base_uri": "https://localhost:8080/"
        },
        "outputId": "644b4017-7cdc-403c-91f3-88aa9e0a9282"
      },
      "outputs": [
        {
          "output_type": "stream",
          "name": "stdout",
          "text": [
            "Correct\n"
          ]
        }
      ],
      "source": [
        "# Define example data and model parameters\n",
        "temp_x = np.array([1, 2, 3, 4, 5])  # Input data\n",
        "temp_y = np.array([2, 4, 6, 8, 10])  # Target values\n",
        "temp_w = 2.0  # Model parameter (slope)\n",
        "temp_b = 0.0  # Model parameter (intercept)\n",
        "\n",
        "# Expected gradients (for the provided data and parameters)\n",
        "expected_dj_dw = 0.0\n",
        "expected_dj_db = 0.0\n",
        "\n",
        "# Call the compute_gradient function to calculate the gradients\n",
        "calculated_dj_dw, calculated_dj_db = compute_gradient(temp_x, temp_y, temp_w, temp_b)\n",
        "\n",
        "# Check if the calculated gradients match the expected gradients\n",
        "if calculated_dj_dw == expected_dj_dw and calculated_dj_db == expected_dj_db:\n",
        "    print(\"Correct\")\n",
        "else:\n",
        "    print(\"Not Correct\")"
      ]
    },
    {
      "cell_type": "markdown",
      "metadata": {
        "id": "S8zMbAFZfkqk"
      },
      "source": [
        "Now lets implement gradient descent"
      ]
    },
    {
      "cell_type": "code",
      "execution_count": 18,
      "metadata": {
        "id": "feTfUIlcfzKf"
      },
      "outputs": [],
      "source": [
        "def gradient_descent(x, y, w_in, b_in, alpha, num_iters, cost_function, gradient_function):\n",
        "    \"\"\"\n",
        "    Performs gradient descent to fit w,b. Updates w,b by taking\n",
        "    num_iters gradient steps with learning rate alpha\n",
        "\n",
        "    Args:\n",
        "      x (ndarray (m,))  : input data, m examples\n",
        "      y (ndarray (m,))  : target values\n",
        "      w_in,b_in (scalar): initial values of model parameters\n",
        "      alpha (float):     Learning rate\n",
        "      num_iters (int):   number of iterations to run gradient descent\n",
        "      cost_function:     function to call to produce cost\n",
        "      gradient_function: function to call to produce gradient\n",
        "\n",
        "    Returns:\n",
        "      w (scalar): Updated value of parameter after running gradient descent\n",
        "      b (scalar): Updated value of parameter after running gradient descent\n",
        "      J_history (List): History of cost values\n",
        "      p_history (list): History of parameters [w,b]\n",
        "      \"\"\"\n",
        "\n",
        "    # A list to store cost J and w's at each iteration primarily for graphing later\n",
        "    J_history = []\n",
        "    p_history = []\n",
        "    b = b_in\n",
        "    w = w_in\n",
        "\n",
        "    for i in range(num_iters):\n",
        "        # Calculate the gradient and update the parameters using gradient_function\n",
        "        # write code here\n",
        "        dj_dw, dj_db = compute_gradient(x,y,w,b)\n",
        "        # finish code\n",
        "\n",
        "        # Update Parameters using equation (3) above\n",
        "        # write code here\n",
        "        w = w - alpha *dj_dw\n",
        "        b = b- alpha * dj_db\n",
        "        # finish code\n",
        "\n",
        "        # Save cost J at each iteration\n",
        "        if i<100000:      # prevent resource exhaustion\n",
        "            J_history.append( cost_function(x, y, w , b))\n",
        "            p_history.append([w,b])\n",
        "        # Print cost every at intervals 10 times or as many iterations if < 10\n",
        "        if i% math.ceil(num_iters/10) == 0:\n",
        "            print(f\"Iteration {i:4}: Cost {J_history[-1]:0.2e} \",\n",
        "                  f\"dj_dw: {dj_dw: 0.3e}, dj_db: {dj_db: 0.3e}  \",\n",
        "                  f\"w: {w: 0.3e}, b:{b: 0.5e}\")\n",
        "\n",
        "    return w, b, J_history, p_history #return w and J,w history for graphing"
      ]
    },
    {
      "cell_type": "markdown",
      "metadata": {
        "id": "Ln5MS8HyzIOF"
      },
      "source": [
        "Run the cell below to run Gradient descent. We will set an optimal value for alpha (learning rate).\n",
        "\n",
        "You should expect to get the following values:\n",
        "\n",
        "w = 94.2231\n",
        "\n",
        "b = -2.6217"
      ]
    },
    {
      "cell_type": "code",
      "execution_count": 19,
      "metadata": {
        "id": "Ugr_kqkqfzGr",
        "colab": {
          "base_uri": "https://localhost:8080/"
        },
        "outputId": "007f4a83-be73-4061-da25-01ffb8f52430"
      },
      "outputs": [
        {
          "output_type": "stream",
          "name": "stdout",
          "text": [
            "Iteration    0: Cost 2.10e+03  dj_dw: -3.400e+01, dj_db: -4.525e+01   w:  3.400e+00, b: 4.52500e+00\n",
            "Iteration  100: Cost 7.90e+01  dj_dw: -1.340e+00, dj_db:  9.300e-01   w:  4.483e+01, b: 3.15328e+01\n",
            "Iteration  200: Cost 4.67e+01  dj_dw: -1.031e+00, dj_db:  7.157e-01   w:  5.660e+01, b: 2.33601e+01\n",
            "Iteration  300: Cost 2.76e+01  dj_dw: -7.929e-01, dj_db:  5.505e-01   w:  6.566e+01, b: 1.70737e+01\n",
            "Iteration  400: Cost 1.64e+01  dj_dw: -6.099e-01, dj_db:  4.234e-01   w:  7.262e+01, b: 1.22383e+01\n",
            "Iteration  500: Cost 9.67e+00  dj_dw: -4.691e-01, dj_db:  3.257e-01   w:  7.798e+01, b: 8.51898e+00\n",
            "Iteration  600: Cost 5.72e+00  dj_dw: -3.608e-01, dj_db:  2.505e-01   w:  8.210e+01, b: 5.65818e+00\n",
            "Iteration  700: Cost 3.39e+00  dj_dw: -2.775e-01, dj_db:  1.927e-01   w:  8.527e+01, b: 3.45772e+00\n",
            "Iteration  800: Cost 2.00e+00  dj_dw: -2.135e-01, dj_db:  1.482e-01   w:  8.771e+01, b: 1.76517e+00\n",
            "Iteration  900: Cost 1.19e+00  dj_dw: -1.642e-01, dj_db:  1.140e-01   w:  8.958e+01, b: 4.63296e-01\n",
            "(w,b) found by gradient descent: ( 91.0143, -0.5293)\n"
          ]
        }
      ],
      "source": [
        "# initialize parameters\n",
        "w_init = 0\n",
        "b_init = 0\n",
        "# some gradient descent settings\n",
        "iterations = 1000\n",
        "tmp_alpha = 0.1\n",
        "# run gradient descent\n",
        "w_final, b_final, J_hist, p_hist = gradient_descent(x_train ,y_train, w_init, b_init, tmp_alpha,\n",
        "                                                    iterations, compute_cost, compute_gradient)\n",
        "print(f\"(w,b) found by gradient descent: ({w_final:8.4f},{b_final:8.4f})\")"
      ]
    },
    {
      "cell_type": "markdown",
      "metadata": {
        "id": "cg4GhUTFzPFL"
      },
      "source": [
        "Lets visualise the cost per iteration to see the behaviour of cost as gradient descent works. Ideally, cost should decrease every iteration."
      ]
    },
    {
      "cell_type": "code",
      "execution_count": 20,
      "metadata": {
        "id": "JdgUF8UYfzD3",
        "colab": {
          "base_uri": "https://localhost:8080/",
          "height": 410
        },
        "outputId": "b8482484-3230-4bba-f722-375822aecda2"
      },
      "outputs": [
        {
          "output_type": "display_data",
          "data": {
            "text/plain": [
              "<Figure size 1200x400 with 1 Axes>"
            ],
            "image/png": "[encoded data removed]"
          },
          "metadata": {}
        }
      ],
      "source": [
        "fig, ax1 = plt.subplots(figsize=(12, 4))\n",
        "ax1.plot(J_hist[:100])\n",
        "ax1.set_title(\"Cost vs. iteration (start)\")\n",
        "ax1.set_ylabel('Cost')\n",
        "ax1.set_xlabel('Iteration Step')\n",
        "plt.show()"
      ]
    },
    {
      "cell_type": "markdown",
      "source": [
        "![WhatsApp Image 2023-11-05 at 19.35.22_0d31f2c0.jpg](data:image/jpeg;base64,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)"
      ],
      "metadata": {
        "id": "58yJD0zNzwpD"
      }
    },
    {
      "cell_type": "markdown",
      "metadata": {
        "id": "vRCmPB5M0aWZ"
      },
      "source": [
        "Now, lets make a test prediction on a student whose previous score was 65. We will represent it as 0.65."
      ]
    },
    {
      "cell_type": "code",
      "execution_count": 21,
      "metadata": {
        "id": "mJ-GbQbJoujg",
        "colab": {
          "base_uri": "https://localhost:8080/"
        },
        "outputId": "17f68c31-1d57-4b03-c545-00f82d9c0557"
      },
      "outputs": [
        {
          "output_type": "stream",
          "name": "stdout",
          "text": [
            "59 marks in the next exam\n"
          ]
        }
      ],
      "source": [
        "x_i = 0.65\n",
        "performance_prediction = w_final * x_i + b_final\n",
        "\n",
        "print(f\"{performance_prediction:.0f} marks in the next exam\")"
      ]
    },
    {
      "cell_type": "markdown",
      "metadata": {
        "id": "DSBomIHu0ugf"
      },
      "source": [
        "Lets compute the cost for this prediction. After running the cell below, we see that the cost is extremely low, indicating optimal performance."
      ]
    },
    {
      "cell_type": "code",
      "execution_count": 22,
      "metadata": {
        "id": "HvfkmHr6rPN-",
        "colab": {
          "base_uri": "https://localhost:8080/"
        },
        "outputId": "f6133830-cc11-4642-f499-7c7ed3147379"
      },
      "outputs": [
        {
          "output_type": "execute_result",
          "data": {
            "text/plain": [
              "14.418645336412787"
            ]
          },
          "metadata": {},
          "execution_count": 22
        }
      ],
      "source": [
        "compute_cost(np.array([0.65]), np.array([64]), w_final, b_final)"
      ]
    },
    {
      "cell_type": "markdown",
      "metadata": {
        "id": "STUAqnJg0_OK"
      },
      "source": [
        "Now, lets see the effect of a high learning rate on gradient descent. We will increase the value of alpha and keep the rest same."
      ]
    },
    {
      "cell_type": "code",
      "execution_count": 23,
      "metadata": {
        "id": "V9QhQYYoQEk1",
        "colab": {
          "base_uri": "https://localhost:8080/"
        },
        "outputId": "ba631ebe-9838-4673-f4dd-c4337d4b231e"
      },
      "outputs": [
        {
          "output_type": "stream",
          "name": "stdout",
          "text": [
            "Iteration    0: Cost 2.53e+03  dj_dw: -3.400e+01, dj_db: -4.525e+01   w:  3.400e-01, b: 4.52500e-01\n",
            "Iteration  100: Cost 4.64e+02  dj_dw: -1.238e+01, dj_db: -1.421e+01   w:  2.147e+01, b: 2.72234e+01\n",
            "Iteration  200: Cost 1.81e+02  dj_dw: -5.192e+00, dj_db: -3.949e+00   w:  2.958e+01, b: 3.53232e+01\n",
            "Iteration  300: Cost 1.29e+02  dj_dw: -2.783e+00, dj_db: -5.702e-01   w:  3.334e+01, b: 3.72585e+01\n",
            "Iteration  400: Cost 1.13e+02  dj_dw: -1.957e+00, dj_db:  5.300e-01   w:  3.564e+01, b: 3.71712e+01\n",
            "Iteration  500: Cost 1.04e+02  dj_dw: -1.657e+00, dj_db:  8.758e-01   w:  3.742e+01, b: 3.64329e+01\n",
            "Iteration  600: Cost 9.83e+01  dj_dw: -1.531e+00, dj_db:  9.723e-01   w:  3.900e+01, b: 3.54972e+01\n",
            "Iteration  700: Cost 9.30e+01  dj_dw: -1.464e+00, dj_db:  9.866e-01   w:  4.050e+01, b: 3.45141e+01\n",
            "Iteration  800: Cost 8.82e+01  dj_dw: -1.417e+00, dj_db:  9.741e-01   w:  4.194e+01, b: 3.35326e+01\n",
            "Iteration  900: Cost 8.37e+01  dj_dw: -1.378e+00, dj_db:  9.532e-01   w:  4.334e+01, b: 3.25687e+01\n"
          ]
        }
      ],
      "source": [
        "tmp_alpha = 0.01\n",
        "# run gradient descent\n",
        "w_final, b_final, J_hist, p_hist = gradient_descent(x_train ,y_train, w_init, b_init, tmp_alpha,\n",
        "                                                    iterations, compute_cost, compute_gradient)"
      ]
    },
    {
      "cell_type": "markdown",
      "metadata": {
        "id": "Bi0Reoaa1i7D"
      },
      "source": [
        "Now, lets make a test prediction on the same student, but with the newly found values for our parameters with high learning rate."
      ]
    },
    {
      "cell_type": "code",
      "execution_count": 24,
      "metadata": {
        "id": "5sUI9hQBQEf4",
        "colab": {
          "base_uri": "https://localhost:8080/"
        },
        "outputId": "b5220c89-a7e7-456d-b369-b1126a5ab9d0"
      },
      "outputs": [
        {
          "output_type": "stream",
          "name": "stdout",
          "text": [
            "61 marks in the next exam\n"
          ]
        }
      ],
      "source": [
        "x_i = 0.65\n",
        "performance_prediction = w_final * x_i + b_final\n",
        "\n",
        "print(f\"{performance_prediction:.0f} marks in the next exam\")"
      ]
    },
    {
      "cell_type": "markdown",
      "metadata": {
        "id": "NSe8f2sc10GM"
      },
      "source": [
        "Lets compute the cost for this prediction. After running the cell below, we see that the cost is much higher, indicating poor performance by the model."
      ]
    },
    {
      "cell_type": "code",
      "execution_count": 25,
      "metadata": {
        "id": "oAg9z1HGQEdQ",
        "colab": {
          "base_uri": "https://localhost:8080/"
        },
        "outputId": "70e1881a-aeb6-4d66-b677-b64d9f64ad12"
      },
      "outputs": [
        {
          "output_type": "execute_result",
          "data": {
            "text/plain": [
              "5.512239212598214"
            ]
          },
          "metadata": {},
          "execution_count": 25
        }
      ],
      "source": [
        "compute_cost(np.array([0.65]), np.array([64]), w_final, b_final)"
      ]
    },
    {
      "cell_type": "markdown",
      "metadata": {
        "id": "hblXfsmJ18Ka"
      },
      "source": [
        "# You have implemented single linear regression in base python.\n",
        "Now, lets use pre-built libraries to speed up this process. These libraries are used in the forefront of AI/ML. Lets import them.\n",
        "\n"
      ]
    },
    {
      "cell_type": "markdown",
      "metadata": {
        "id": "qwEVMhBB2g49"
      },
      "source": [
        "pandas: Pandas is a powerful data manipulation library in Python. It provides data structures and functions for efficiently working with structured data, such as data tables. You can easily load, analyze, and manipulate data using data frames with Pandas.\n",
        "\n",
        "\n",
        "StandardScaler (from scikit-learn): StandardScaler is a class from the scikit-learn library used for scaling and standardizing features in machine learning. It helps to transform your data into a standard format, which can improve the performance of certain machine learning algorithms.\n",
        "\n",
        "\n",
        "train_test_split (from scikit-learn): This function from scikit-learn is used for splitting your dataset into training and testing subsets. It's crucial for evaluating the performance of machine learning models.\n",
        "\n",
        "\n",
        "LinearRegression (from scikit-learn): LinearRegression is a class in scikit-learn for implementing linear regression models. It's commonly used for modeling linear relationships between variables in predictive analytics and regression tasks.\n",
        "\n",
        "\n",
        "mean_squared_error (from scikit-learn): Mean Squared Error (MSE) is a common metric for measuring the accuracy of regression models. This function in scikit-learn calculates the MSE between the predicted and actual values, helping you assess the model's performance.\n"
      ]
    },
    {
      "cell_type": "code",
      "execution_count": 31,
      "metadata": {
        "id": "ZaC5TIFu2hn9"
      },
      "outputs": [],
      "source": [
        "import pandas as pd\n",
        "from sklearn.preprocessing import StandardScaler\n",
        "from sklearn.model_selection import train_test_split\n",
        "from sklearn.linear_model import LinearRegression\n",
        "from sklearn.metrics import mean_squared_error\n",
        "from sklearn.metrics import accuracy_score"
      ]
    },
    {
      "cell_type": "markdown",
      "metadata": {
        "id": "uCmtaNFW29MA"
      },
      "source": [
        "Lets read the csv file and store it into a dataframe. We will use the path of the Single linear regression file to do this."
      ]
    },
    {
      "cell_type": "code",
      "execution_count": 32,
      "metadata": {
        "id": "YJKbAGSq6vQr"
      },
      "outputs": [],
      "source": [
        "df = pd.read_csv('/content/Student performance single linear regression.csv')"
      ]
    },
    {
      "cell_type": "markdown",
      "metadata": {
        "id": "9o1GPsQQ3WBK"
      },
      "source": [
        "Lets print the dataframe"
      ]
    },
    {
      "cell_type": "code",
      "execution_count": 33,
      "metadata": {
        "id": "rzGC9Gj4626r",
        "colab": {
          "base_uri": "https://localhost:8080/",
          "height": 424
        },
        "outputId": "2062d9a2-382f-413a-c64b-52b3306ff8d8"
      },
      "outputs": [
        {
          "output_type": "execute_result",
          "data": {
            "text/plain": [
              "      Previous Scores  Performance Index\n",
              "0                  99                 91\n",
              "1                  82                 65\n",
              "2                  51                 45\n",
              "3                  52                 36\n",
              "4                  75                 66\n",
              "...               ...                ...\n",
              "9995               49                 23\n",
              "9996               64                 58\n",
              "9997               83                 74\n",
              "9998               97                 95\n",
              "9999               74                 64\n",
              "\n",
              "[10000 rows x 2 columns]"
            ],
            "text/html": [
              "\n",
              "  <div id=\"df-0abcfaae-96c7-49b6-8eb9-22df10fd591e\" class=\"colab-df-container\">\n",
              "    <div>\n",
              "<style scoped>\n",
              "    .dataframe tbody tr th:only-of-type {\n",
              "        vertical-align: middle;\n",
              "    }\n",
              "\n",
              "    .dataframe tbody tr th {\n",
              "        vertical-align: top;\n",
              "    }\n",
              "\n",
              "    .dataframe thead th {\n",
              "        text-align: right;\n",
              "    }\n",
              "</style>\n",
              "<table border=\"1\" class=\"dataframe\">\n",
              "  <thead>\n",
              "    <tr style=\"text-align: right;\">\n",
              "      <th></th>\n",
              "      <th>Previous Scores</th>\n",
              "      <th>Performance Index</th>\n",
              "    </tr>\n",
              "  </thead>\n",
              "  <tbody>\n",
              "    <tr>\n",
              "      <th>0</th>\n",
              "      <td>99</td>\n",
              "      <td>91</td>\n",
              "    </tr>\n",
              "    <tr>\n",
              "      <th>1</th>\n",
              "      <td>82</td>\n",
              "      <td>65</td>\n",
              "    </tr>\n",
              "    <tr>\n",
              "      <th>2</th>\n",
              "      <td>51</td>\n",
              "      <td>45</td>\n",
              "    </tr>\n",
              "    <tr>\n",
              "      <th>3</th>\n",
              "      <td>52</td>\n",
              "      <td>36</td>\n",
              "    </tr>\n",
              "    <tr>\n",
              "      <th>4</th>\n",
              "      <td>75</td>\n",
              "      <td>66</td>\n",
              "    </tr>\n",
              "    <tr>\n",
              "      <th>...</th>\n",
              "      <td>...</td>\n",
              "      <td>...</td>\n",
              "    </tr>\n",
              "    <tr>\n",
              "      <th>9995</th>\n",
              "      <td>49</td>\n",
              "      <td>23</td>\n",
              "    </tr>\n",
              "    <tr>\n",
              "      <th>9996</th>\n",
              "      <td>64</td>\n",
              "      <td>58</td>\n",
              "    </tr>\n",
              "    <tr>\n",
              "      <th>9997</th>\n",
              "      <td>83</td>\n",
              "      <td>74</td>\n",
              "    </tr>\n",
              "    <tr>\n",
              "      <th>9998</th>\n",
              "      <td>97</td>\n",
              "      <td>95</td>\n",
              "    </tr>\n",
              "    <tr>\n",
              "      <th>9999</th>\n",
              "      <td>74</td>\n",
              "      <td>64</td>\n",
              "    </tr>\n",
              "  </tbody>\n",
              "</table>\n",
              "<p>10000 rows × 2 columns</p>\n",
              "</div>\n",
              "    <div class=\"colab-df-buttons\">\n",
              "\n",
              "  <div class=\"colab-df-container\">\n",
              "    <button class=\"colab-df-convert\" onclick=\"convertToInteractive('df-0abcfaae-96c7-49b6-8eb9-22df10fd591e')\"\n",
              "            title=\"Convert this dataframe to an interactive table.\"\n",
              "            style=\"display:none;\">\n",
              "\n",
              "  <svg xmlns=\"http://www.w3.org/2000/svg\" height=\"24px\" viewBox=\"0 -960 960 960\">\n",
              "    <path d=\"M120-120v-720h720v720H120Zm60-500h600v-160H180v160Zm220 220h160v-160H400v160Zm0 220h160v-160H400v160ZM180-400h160v-160H180v160Zm440 0h160v-160H620v160ZM180-180h160v-160H180v160Zm440 0h160v-160H620v160Z\"/>\n",
              "  </svg>\n",
              "    </button>\n",
              "\n",
              "  <style>\n",
              "    .colab-df-container {\n",
              "      display:flex;\n",
              "      gap: 12px;\n",
              "    }\n",
              "\n",
              "    .colab-df-convert {\n",
              "      background-color: #E8F0FE;\n",
              "      border: none;\n",
              "      border-radius: 50%;\n",
              "      cursor: pointer;\n",
              "      display: none;\n",
              "      fill: #1967D2;\n",
              "      height: 32px;\n",
              "      padding: 0 0 0 0;\n",
              "      width: 32px;\n",
              "    }\n",
              "\n",
              "    .colab-df-convert:hover {\n",
              "      background-color: #E2EBFA;\n",
              "      box-shadow: 0px 1px 2px rgba(60, 64, 67, 0.3), 0px 1px 3px 1px rgba(60, 64, 67, 0.15);\n",
              "      fill: #174EA6;\n",
              "    }\n",
              "\n",
              "    .colab-df-buttons div {\n",
              "      margin-bottom: 4px;\n",
              "    }\n",
              "\n",
              "    [theme=dark] .colab-df-convert {\n",
              "      background-color: #3B4455;\n",
              "      fill: #D2E3FC;\n",
              "    }\n",
              "\n",
              "    [theme=dark] .colab-df-convert:hover {\n",
              "      background-color: #434B5C;\n",
              "      box-shadow: 0px 1px 3px 1px rgba(0, 0, 0, 0.15);\n",
              "      filter: drop-shadow(0px 1px 2px rgba(0, 0, 0, 0.3));\n",
              "      fill: #FFFFFF;\n",
              "    }\n",
              "  </style>\n",
              "\n",
              "    <script>\n",
              "      const buttonEl =\n",
              "        document.querySelector('#df-0abcfaae-96c7-49b6-8eb9-22df10fd591e button.colab-df-convert');\n",
              "      buttonEl.style.display =\n",
              "        google.colab.kernel.accessAllowed ? 'block' : 'none';\n",
              "\n",
              "      async function convertToInteractive(key) {\n",
              "        const element = document.querySelector('#df-0abcfaae-96c7-49b6-8eb9-22df10fd591e');\n",
              "        const dataTable =\n",
              "          await google.colab.kernel.invokeFunction('convertToInteractive',\n",
              "                                                    [key], {});\n",
              "        if (!dataTable) return;\n",
              "\n",
              "        const docLinkHtml = 'Like what you see? Visit the ' +\n",
              "          '<a target=\"_blank\" href=https://colab.research.google.com/notebooks/data_table.ipynb>data table notebook</a>'\n",
              "          + ' to learn more about interactive tables.';\n",
              "        element.innerHTML = '';\n",
              "        dataTable['output_type'] = 'display_data';\n",
              "        await google.colab.output.renderOutput(dataTable, element);\n",
              "        const docLink = document.createElement('div');\n",
              "        docLink.innerHTML = docLinkHtml;\n",
              "        element.appendChild(docLink);\n",
              "      }\n",
              "    </script>\n",
              "  </div>\n",
              "\n",
              "\n",
              "<div id=\"df-ccfa0b0b-0ab1-4b02-88a1-0f02fdb8b597\">\n",
              "  <button class=\"colab-df-quickchart\" onclick=\"quickchart('df-ccfa0b0b-0ab1-4b02-88a1-0f02fdb8b597')\"\n",
              "            title=\"Suggest charts.\"\n",
              "            style=\"display:none;\">\n",
              "\n",
              "<svg xmlns=\"http://www.w3.org/2000/svg\" height=\"24px\"viewBox=\"0 0 24 24\"\n",
              "     width=\"24px\">\n",
              "    <g>\n",
              "        <path d=\"M19 3H5c-1.1 0-2 .9-2 2v14c0 1.1.9 2 2 2h14c1.1 0 2-.9 2-2V5c0-1.1-.9-2-2-2zM9 17H7v-7h2v7zm4 0h-2V7h2v10zm4 0h-2v-4h2v4z\"/>\n",
              "    </g>\n",
              "</svg>\n",
              "  </button>\n",
              "\n",
              "<style>\n",
              "  .colab-df-quickchart {\n",
              "      --bg-color: #E8F0FE;\n",
              "      --fill-color: #1967D2;\n",
              "      --hover-bg-color: #E2EBFA;\n",
              "      --hover-fill-color: #174EA6;\n",
              "      --disabled-fill-color: #AAA;\n",
              "      --disabled-bg-color: #DDD;\n",
              "  }\n",
              "\n",
              "  [theme=dark] .colab-df-quickchart {\n",
              "      --bg-color: #3B4455;\n",
              "      --fill-color: #D2E3FC;\n",
              "      --hover-bg-color: #434B5C;\n",
              "      --hover-fill-color: #FFFFFF;\n",
              "      --disabled-bg-color: #3B4455;\n",
              "      --disabled-fill-color: #666;\n",
              "  }\n",
              "\n",
              "  .colab-df-quickchart {\n",
              "    background-color: var(--bg-color);\n",
              "    border: none;\n",
              "    border-radius: 50%;\n",
              "    cursor: pointer;\n",
              "    display: none;\n",
              "    fill: var(--fill-color);\n",
              "    height: 32px;\n",
              "    padding: 0;\n",
              "    width: 32px;\n",
              "  }\n",
              "\n",
              "  .colab-df-quickchart:hover {\n",
              "    background-color: var(--hover-bg-color);\n",
              "    box-shadow: 0 1px 2px rgba(60, 64, 67, 0.3), 0 1px 3px 1px rgba(60, 64, 67, 0.15);\n",
              "    fill: var(--button-hover-fill-color);\n",
              "  }\n",
              "\n",
              "  .colab-df-quickchart-complete:disabled,\n",
              "  .colab-df-quickchart-complete:disabled:hover {\n",
              "    background-color: var(--disabled-bg-color);\n",
              "    fill: var(--disabled-fill-color);\n",
              "    box-shadow: none;\n",
              "  }\n",
              "\n",
              "  .colab-df-spinner {\n",
              "    border: 2px solid var(--fill-color);\n",
              "    border-color: transparent;\n",
              "    border-bottom-color: var(--fill-color);\n",
              "    animation:\n",
              "      spin 1s steps(1) infinite;\n",
              "  }\n",
              "\n",
              "  @keyframes spin {\n",
              "    0% {\n",
              "      border-color: transparent;\n",
              "      border-bottom-color: var(--fill-color);\n",
              "      border-left-color: var(--fill-color);\n",
              "    }\n",
              "    20% {\n",
              "      border-color: transparent;\n",
              "      border-left-color: var(--fill-color);\n",
              "      border-top-color: var(--fill-color);\n",
              "    }\n",
              "    30% {\n",
              "      border-color: transparent;\n",
              "      border-left-color: var(--fill-color);\n",
              "      border-top-color: var(--fill-color);\n",
              "      border-right-color: var(--fill-color);\n",
              "    }\n",
              "    40% {\n",
              "      border-color: transparent;\n",
              "      border-right-color: var(--fill-color);\n",
              "      border-top-color: var(--fill-color);\n",
              "    }\n",
              "    60% {\n",
              "      border-color: transparent;\n",
              "      border-right-color: var(--fill-color);\n",
              "    }\n",
              "    80% {\n",
              "      border-color: transparent;\n",
              "      border-right-color: var(--fill-color);\n",
              "      border-bottom-color: var(--fill-color);\n",
              "    }\n",
              "    90% {\n",
              "      border-color: transparent;\n",
              "      border-bottom-color: var(--fill-color);\n",
              "    }\n",
              "  }\n",
              "</style>\n",
              "\n",
              "  <script>\n",
              "    async function quickchart(key) {\n",
              "      const quickchartButtonEl =\n",
              "        document.querySelector('#' + key + ' button');\n",
              "      quickchartButtonEl.disabled = true;  // To prevent multiple clicks.\n",
              "      quickchartButtonEl.classList.add('colab-df-spinner');\n",
              "      try {\n",
              "        const charts = await google.colab.kernel.invokeFunction(\n",
              "            'suggestCharts', [key], {});\n",
              "      } catch (error) {\n",
              "        console.error('Error during call to suggestCharts:', error);\n",
              "      }\n",
              "      quickchartButtonEl.classList.remove('colab-df-spinner');\n",
              "      quickchartButtonEl.classList.add('colab-df-quickchart-complete');\n",
              "    }\n",
              "    (() => {\n",
              "      let quickchartButtonEl =\n",
              "        document.querySelector('#df-ccfa0b0b-0ab1-4b02-88a1-0f02fdb8b597 button');\n",
              "      quickchartButtonEl.style.display =\n",
              "        google.colab.kernel.accessAllowed ? 'block' : 'none';\n",
              "    })();\n",
              "  </script>\n",
              "</div>\n",
              "    </div>\n",
              "  </div>\n"
            ]
          },
          "metadata": {},
          "execution_count": 33
        }
      ],
      "source": [
        "df"
      ]
    },
    {
      "cell_type": "markdown",
      "metadata": {
        "id": "qweU5t3534lG"
      },
      "source": [
        "The method '.describe()' describes our data giving us useful information such as the mean."
      ]
    },
    {
      "cell_type": "code",
      "execution_count": 34,
      "metadata": {
        "id": "1YMkg-o-__rm",
        "colab": {
          "base_uri": "https://localhost:8080/",
          "height": 300
        },
        "outputId": "46cd4884-f590-4ace-bcbe-a0d329c339ad"
      },
      "outputs": [
        {
          "output_type": "execute_result",
          "data": {
            "text/plain": [
              "       Previous Scores  Performance Index\n",
              "count     10000.000000       10000.000000\n",
              "mean         69.445700          55.224800\n",
              "std          17.343152          19.212558\n",
              "min          40.000000          10.000000\n",
              "25%          54.000000          40.000000\n",
              "50%          69.000000          55.000000\n",
              "75%          85.000000          71.000000\n",
              "max          99.000000         100.000000"
            ],
            "text/html": [
              "\n",
              "  <div id=\"df-5593ccc6-7c72-43cb-8926-70302cff2309\" class=\"colab-df-container\">\n",
              "    <div>\n",
              "<style scoped>\n",
              "    .dataframe tbody tr th:only-of-type {\n",
              "        vertical-align: middle;\n",
              "    }\n",
              "\n",
              "    .dataframe tbody tr th {\n",
              "        vertical-align: top;\n",
              "    }\n",
              "\n",
              "    .dataframe thead th {\n",
              "        text-align: right;\n",
              "    }\n",
              "</style>\n",
              "<table border=\"1\" class=\"dataframe\">\n",
              "  <thead>\n",
              "    <tr style=\"text-align: right;\">\n",
              "      <th></th>\n",
              "      <th>Previous Scores</th>\n",
              "      <th>Performance Index</th>\n",
              "    </tr>\n",
              "  </thead>\n",
              "  <tbody>\n",
              "    <tr>\n",
              "      <th>count</th>\n",
              "      <td>10000.000000</td>\n",
              "      <td>10000.000000</td>\n",
              "    </tr>\n",
              "    <tr>\n",
              "      <th>mean</th>\n",
              "      <td>69.445700</td>\n",
              "      <td>55.224800</td>\n",
              "    </tr>\n",
              "    <tr>\n",
              "      <th>std</th>\n",
              "      <td>17.343152</td>\n",
              "      <td>19.212558</td>\n",
              "    </tr>\n",
              "    <tr>\n",
              "      <th>min</th>\n",
              "      <td>40.000000</td>\n",
              "      <td>10.000000</td>\n",
              "    </tr>\n",
              "    <tr>\n",
              "      <th>25%</th>\n",
              "      <td>54.000000</td>\n",
              "      <td>40.000000</td>\n",
              "    </tr>\n",
              "    <tr>\n",
              "      <th>50%</th>\n",
              "      <td>69.000000</td>\n",
              "      <td>55.000000</td>\n",
              "    </tr>\n",
              "    <tr>\n",
              "      <th>75%</th>\n",
              "      <td>85.000000</td>\n",
              "      <td>71.000000</td>\n",
              "    </tr>\n",
              "    <tr>\n",
              "      <th>max</th>\n",
              "      <td>99.000000</td>\n",
              "      <td>100.000000</td>\n",
              "    </tr>\n",
              "  </tbody>\n",
              "</table>\n",
              "</div>\n",
              "    <div class=\"colab-df-buttons\">\n",
              "\n",
              "  <div class=\"colab-df-container\">\n",
              "    <button class=\"colab-df-convert\" onclick=\"convertToInteractive('df-5593ccc6-7c72-43cb-8926-70302cff2309')\"\n",
              "            title=\"Convert this dataframe to an interactive table.\"\n",
              "            style=\"display:none;\">\n",
              "\n",
              "  <svg xmlns=\"http://www.w3.org/2000/svg\" height=\"24px\" viewBox=\"0 -960 960 960\">\n",
              "    <path d=\"M120-120v-720h720v720H120Zm60-500h600v-160H180v160Zm220 220h160v-160H400v160Zm0 220h160v-160H400v160ZM180-400h160v-160H180v160Zm440 0h160v-160H620v160ZM180-180h160v-160H180v160Zm440 0h160v-160H620v160Z\"/>\n",
              "  </svg>\n",
              "    </button>\n",
              "\n",
              "  <style>\n",
              "    .colab-df-container {\n",
              "      display:flex;\n",
              "      gap: 12px;\n",
              "    }\n",
              "\n",
              "    .colab-df-convert {\n",
              "      background-color: #E8F0FE;\n",
              "      border: none;\n",
              "      border-radius: 50%;\n",
              "      cursor: pointer;\n",
              "      display: none;\n",
              "      fill: #1967D2;\n",
              "      height: 32px;\n",
              "      padding: 0 0 0 0;\n",
              "      width: 32px;\n",
              "    }\n",
              "\n",
              "    .colab-df-convert:hover {\n",
              "      background-color: #E2EBFA;\n",
              "      box-shadow: 0px 1px 2px rgba(60, 64, 67, 0.3), 0px 1px 3px 1px rgba(60, 64, 67, 0.15);\n",
              "      fill: #174EA6;\n",
              "    }\n",
              "\n",
              "    .colab-df-buttons div {\n",
              "      margin-bottom: 4px;\n",
              "    }\n",
              "\n",
              "    [theme=dark] .colab-df-convert {\n",
              "      background-color: #3B4455;\n",
              "      fill: #D2E3FC;\n",
              "    }\n",
              "\n",
              "    [theme=dark] .colab-df-convert:hover {\n",
              "      background-color: #434B5C;\n",
              "      box-shadow: 0px 1px 3px 1px rgba(0, 0, 0, 0.15);\n",
              "      filter: drop-shadow(0px 1px 2px rgba(0, 0, 0, 0.3));\n",
              "      fill: #FFFFFF;\n",
              "    }\n",
              "  </style>\n",
              "\n",
              "    <script>\n",
              "      const buttonEl =\n",
              "        document.querySelector('#df-5593ccc6-7c72-43cb-8926-70302cff2309 button.colab-df-convert');\n",
              "      buttonEl.style.display =\n",
              "        google.colab.kernel.accessAllowed ? 'block' : 'none';\n",
              "\n",
              "      async function convertToInteractive(key) {\n",
              "        const element = document.querySelector('#df-5593ccc6-7c72-43cb-8926-70302cff2309');\n",
              "        const dataTable =\n",
              "          await google.colab.kernel.invokeFunction('convertToInteractive',\n",
              "                                                    [key], {});\n",
              "        if (!dataTable) return;\n",
              "\n",
              "        const docLinkHtml = 'Like what you see? Visit the ' +\n",
              "          '<a target=\"_blank\" href=https://colab.research.google.com/notebooks/data_table.ipynb>data table notebook</a>'\n",
              "          + ' to learn more about interactive tables.';\n",
              "        element.innerHTML = '';\n",
              "        dataTable['output_type'] = 'display_data';\n",
              "        await google.colab.output.renderOutput(dataTable, element);\n",
              "        const docLink = document.createElement('div');\n",
              "        docLink.innerHTML = docLinkHtml;\n",
              "        element.appendChild(docLink);\n",
              "      }\n",
              "    </script>\n",
              "  </div>\n",
              "\n",
              "\n",
              "<div id=\"df-04e88b6c-e7d9-4a45-a286-21e41bbdb46c\">\n",
              "  <button class=\"colab-df-quickchart\" onclick=\"quickchart('df-04e88b6c-e7d9-4a45-a286-21e41bbdb46c')\"\n",
              "            title=\"Suggest charts.\"\n",
              "            style=\"display:none;\">\n",
              "\n",
              "<svg xmlns=\"http://www.w3.org/2000/svg\" height=\"24px\"viewBox=\"0 0 24 24\"\n",
              "     width=\"24px\">\n",
              "    <g>\n",
              "        <path d=\"M19 3H5c-1.1 0-2 .9-2 2v14c0 1.1.9 2 2 2h14c1.1 0 2-.9 2-2V5c0-1.1-.9-2-2-2zM9 17H7v-7h2v7zm4 0h-2V7h2v10zm4 0h-2v-4h2v4z\"/>\n",
              "    </g>\n",
              "</svg>\n",
              "  </button>\n",
              "\n",
              "<style>\n",
              "  .colab-df-quickchart {\n",
              "      --bg-color: #E8F0FE;\n",
              "      --fill-color: #1967D2;\n",
              "      --hover-bg-color: #E2EBFA;\n",
              "      --hover-fill-color: #174EA6;\n",
              "      --disabled-fill-color: #AAA;\n",
              "      --disabled-bg-color: #DDD;\n",
              "  }\n",
              "\n",
              "  [theme=dark] .colab-df-quickchart {\n",
              "      --bg-color: #3B4455;\n",
              "      --fill-color: #D2E3FC;\n",
              "      --hover-bg-color: #434B5C;\n",
              "      --hover-fill-color: #FFFFFF;\n",
              "      --disabled-bg-color: #3B4455;\n",
              "      --disabled-fill-color: #666;\n",
              "  }\n",
              "\n",
              "  .colab-df-quickchart {\n",
              "    background-color: var(--bg-color);\n",
              "    border: none;\n",
              "    border-radius: 50%;\n",
              "    cursor: pointer;\n",
              "    display: none;\n",
              "    fill: var(--fill-color);\n",
              "    height: 32px;\n",
              "    padding: 0;\n",
              "    width: 32px;\n",
              "  }\n",
              "\n",
              "  .colab-df-quickchart:hover {\n",
              "    background-color: var(--hover-bg-color);\n",
              "    box-shadow: 0 1px 2px rgba(60, 64, 67, 0.3), 0 1px 3px 1px rgba(60, 64, 67, 0.15);\n",
              "    fill: var(--button-hover-fill-color);\n",
              "  }\n",
              "\n",
              "  .colab-df-quickchart-complete:disabled,\n",
              "  .colab-df-quickchart-complete:disabled:hover {\n",
              "    background-color: var(--disabled-bg-color);\n",
              "    fill: var(--disabled-fill-color);\n",
              "    box-shadow: none;\n",
              "  }\n",
              "\n",
              "  .colab-df-spinner {\n",
              "    border: 2px solid var(--fill-color);\n",
              "    border-color: transparent;\n",
              "    border-bottom-color: var(--fill-color);\n",
              "    animation:\n",
              "      spin 1s steps(1) infinite;\n",
              "  }\n",
              "\n",
              "  @keyframes spin {\n",
              "    0% {\n",
              "      border-color: transparent;\n",
              "      border-bottom-color: var(--fill-color);\n",
              "      border-left-color: var(--fill-color);\n",
              "    }\n",
              "    20% {\n",
              "      border-color: transparent;\n",
              "      border-left-color: var(--fill-color);\n",
              "      border-top-color: var(--fill-color);\n",
              "    }\n",
              "    30% {\n",
              "      border-color: transparent;\n",
              "      border-left-color: var(--fill-color);\n",
              "      border-top-color: var(--fill-color);\n",
              "      border-right-color: var(--fill-color);\n",
              "    }\n",
              "    40% {\n",
              "      border-color: transparent;\n",
              "      border-right-color: var(--fill-color);\n",
              "      border-top-color: var(--fill-color);\n",
              "    }\n",
              "    60% {\n",
              "      border-color: transparent;\n",
              "      border-right-color: var(--fill-color);\n",
              "    }\n",
              "    80% {\n",
              "      border-color: transparent;\n",
              "      border-right-color: var(--fill-color);\n",
              "      border-bottom-color: var(--fill-color);\n",
              "    }\n",
              "    90% {\n",
              "      border-color: transparent;\n",
              "      border-bottom-color: var(--fill-color);\n",
              "    }\n",
              "  }\n",
              "</style>\n",
              "\n",
              "  <script>\n",
              "    async function quickchart(key) {\n",
              "      const quickchartButtonEl =\n",
              "        document.querySelector('#' + key + ' button');\n",
              "      quickchartButtonEl.disabled = true;  // To prevent multiple clicks.\n",
              "      quickchartButtonEl.classList.add('colab-df-spinner');\n",
              "      try {\n",
              "        const charts = await google.colab.kernel.invokeFunction(\n",
              "            'suggestCharts', [key], {});\n",
              "      } catch (error) {\n",
              "        console.error('Error during call to suggestCharts:', error);\n",
              "      }\n",
              "      quickchartButtonEl.classList.remove('colab-df-spinner');\n",
              "      quickchartButtonEl.classList.add('colab-df-quickchart-complete');\n",
              "    }\n",
              "    (() => {\n",
              "      let quickchartButtonEl =\n",
              "        document.querySelector('#df-04e88b6c-e7d9-4a45-a286-21e41bbdb46c button');\n",
              "      quickchartButtonEl.style.display =\n",
              "        google.colab.kernel.accessAllowed ? 'block' : 'none';\n",
              "    })();\n",
              "  </script>\n",
              "</div>\n",
              "    </div>\n",
              "  </div>\n"
            ]
          },
          "metadata": {},
          "execution_count": 34
        }
      ],
      "source": [
        "df.describe()"
      ]
    },
    {
      "cell_type": "markdown",
      "metadata": {
        "id": "DyRgD74-4GoG"
      },
      "source": [
        "Now, lets set our input data as 'X'.\n",
        "We will set X as the Previous Scores column.\n",
        "\n",
        "Likewise, lets set our target data as 'y'.\n",
        "We will set y as the Performance Index column."
      ]
    },
    {
      "cell_type": "code",
      "execution_count": 35,
      "metadata": {
        "id": "mVfUH0kX7w27"
      },
      "outputs": [],
      "source": [
        "X = df.drop(['Performance Index'], axis = 1)\n",
        "y = df['Performance Index']"
      ]
    },
    {
      "cell_type": "markdown",
      "metadata": {
        "id": "7lVMFHxq4zZr"
      },
      "source": [
        "Lets print X"
      ]
    },
    {
      "cell_type": "code",
      "execution_count": 36,
      "metadata": {
        "id": "J-Ybiq928kxW",
        "colab": {
          "base_uri": "https://localhost:8080/",
          "height": 424
        },
        "outputId": "0e552025-6e19-44e0-a227-c4e3bba61f4d"
      },
      "outputs": [
        {
          "output_type": "execute_result",
          "data": {
            "text/plain": [
              "      Previous Scores\n",
              "0                  99\n",
              "1                  82\n",
              "2                  51\n",
              "3                  52\n",
              "4                  75\n",
              "...               ...\n",
              "9995               49\n",
              "9996               64\n",
              "9997               83\n",
              "9998               97\n",
              "9999               74\n",
              "\n",
              "[10000 rows x 1 columns]"
            ],
            "text/html": [
              "\n",
              "  <div id=\"df-e7adb060-06ed-451c-8b99-504abdbff605\" class=\"colab-df-container\">\n",
              "    <div>\n",
              "<style scoped>\n",
              "    .dataframe tbody tr th:only-of-type {\n",
              "        vertical-align: middle;\n",
              "    }\n",
              "\n",
              "    .dataframe tbody tr th {\n",
              "        vertical-align: top;\n",
              "    }\n",
              "\n",
              "    .dataframe thead th {\n",
              "        text-align: right;\n",
              "    }\n",
              "</style>\n",
              "<table border=\"1\" class=\"dataframe\">\n",
              "  <thead>\n",
              "    <tr style=\"text-align: right;\">\n",
              "      <th></th>\n",
              "      <th>Previous Scores</th>\n",
              "    </tr>\n",
              "  </thead>\n",
              "  <tbody>\n",
              "    <tr>\n",
              "      <th>0</th>\n",
              "      <td>99</td>\n",
              "    </tr>\n",
              "    <tr>\n",
              "      <th>1</th>\n",
              "      <td>82</td>\n",
              "    </tr>\n",
              "    <tr>\n",
              "      <th>2</th>\n",
              "      <td>51</td>\n",
              "    </tr>\n",
              "    <tr>\n",
              "      <th>3</th>\n",
              "      <td>52</td>\n",
              "    </tr>\n",
              "    <tr>\n",
              "      <th>4</th>\n",
              "      <td>75</td>\n",
              "    </tr>\n",
              "    <tr>\n",
              "      <th>...</th>\n",
              "      <td>...</td>\n",
              "    </tr>\n",
              "    <tr>\n",
              "      <th>9995</th>\n",
              "      <td>49</td>\n",
              "    </tr>\n",
              "    <tr>\n",
              "      <th>9996</th>\n",
              "      <td>64</td>\n",
              "    </tr>\n",
              "    <tr>\n",
              "      <th>9997</th>\n",
              "      <td>83</td>\n",
              "    </tr>\n",
              "    <tr>\n",
              "      <th>9998</th>\n",
              "      <td>97</td>\n",
              "    </tr>\n",
              "    <tr>\n",
              "      <th>9999</th>\n",
              "      <td>74</td>\n",
              "    </tr>\n",
              "  </tbody>\n",
              "</table>\n",
              "<p>10000 rows × 1 columns</p>\n",
              "</div>\n",
              "    <div class=\"colab-df-buttons\">\n",
              "\n",
              "  <div class=\"colab-df-container\">\n",
              "    <button class=\"colab-df-convert\" onclick=\"convertToInteractive('df-e7adb060-06ed-451c-8b99-504abdbff605')\"\n",
              "            title=\"Convert this dataframe to an interactive table.\"\n",
              "            style=\"display:none;\">\n",
              "\n",
              "  <svg xmlns=\"http://www.w3.org/2000/svg\" height=\"24px\" viewBox=\"0 -960 960 960\">\n",
              "    <path d=\"M120-120v-720h720v720H120Zm60-500h600v-160H180v160Zm220 220h160v-160H400v160Zm0 220h160v-160H400v160ZM180-400h160v-160H180v160Zm440 0h160v-160H620v160ZM180-180h160v-160H180v160Zm440 0h160v-160H620v160Z\"/>\n",
              "  </svg>\n",
              "    </button>\n",
              "\n",
              "  <style>\n",
              "    .colab-df-container {\n",
              "      display:flex;\n",
              "      gap: 12px;\n",
              "    }\n",
              "\n",
              "    .colab-df-convert {\n",
              "      background-color: #E8F0FE;\n",
              "      border: none;\n",
              "      border-radius: 50%;\n",
              "      cursor: pointer;\n",
              "      display: none;\n",
              "      fill: #1967D2;\n",
              "      height: 32px;\n",
              "      padding: 0 0 0 0;\n",
              "      width: 32px;\n",
              "    }\n",
              "\n",
              "    .colab-df-convert:hover {\n",
              "      background-color: #E2EBFA;\n",
              "      box-shadow: 0px 1px 2px rgba(60, 64, 67, 0.3), 0px 1px 3px 1px rgba(60, 64, 67, 0.15);\n",
              "      fill: #174EA6;\n",
              "    }\n",
              "\n",
              "    .colab-df-buttons div {\n",
              "      margin-bottom: 4px;\n",
              "    }\n",
              "\n",
              "    [theme=dark] .colab-df-convert {\n",
              "      background-color: #3B4455;\n",
              "      fill: #D2E3FC;\n",
              "    }\n",
              "\n",
              "    [theme=dark] .colab-df-convert:hover {\n",
              "      background-color: #434B5C;\n",
              "      box-shadow: 0px 1px 3px 1px rgba(0, 0, 0, 0.15);\n",
              "      filter: drop-shadow(0px 1px 2px rgba(0, 0, 0, 0.3));\n",
              "      fill: #FFFFFF;\n",
              "    }\n",
              "  </style>\n",
              "\n",
              "    <script>\n",
              "      const buttonEl =\n",
              "        document.querySelector('#df-e7adb060-06ed-451c-8b99-504abdbff605 button.colab-df-convert');\n",
              "      buttonEl.style.display =\n",
              "        google.colab.kernel.accessAllowed ? 'block' : 'none';\n",
              "\n",
              "      async function convertToInteractive(key) {\n",
              "        const element = document.querySelector('#df-e7adb060-06ed-451c-8b99-504abdbff605');\n",
              "        const dataTable =\n",
              "          await google.colab.kernel.invokeFunction('convertToInteractive',\n",
              "                                                    [key], {});\n",
              "        if (!dataTable) return;\n",
              "\n",
              "        const docLinkHtml = 'Like what you see? Visit the ' +\n",
              "          '<a target=\"_blank\" href=https://colab.research.google.com/notebooks/data_table.ipynb>data table notebook</a>'\n",
              "          + ' to learn more about interactive tables.';\n",
              "        element.innerHTML = '';\n",
              "        dataTable['output_type'] = 'display_data';\n",
              "        await google.colab.output.renderOutput(dataTable, element);\n",
              "        const docLink = document.createElement('div');\n",
              "        docLink.innerHTML = docLinkHtml;\n",
              "        element.appendChild(docLink);\n",
              "      }\n",
              "    </script>\n",
              "  </div>\n",
              "\n",
              "\n",
              "<div id=\"df-fd1ca379-e156-401f-b1ad-deaa87f6a940\">\n",
              "  <button class=\"colab-df-quickchart\" onclick=\"quickchart('df-fd1ca379-e156-401f-b1ad-deaa87f6a940')\"\n",
              "            title=\"Suggest charts.\"\n",
              "            style=\"display:none;\">\n",
              "\n",
              "<svg xmlns=\"http://www.w3.org/2000/svg\" height=\"24px\"viewBox=\"0 0 24 24\"\n",
              "     width=\"24px\">\n",
              "    <g>\n",
              "        <path d=\"M19 3H5c-1.1 0-2 .9-2 2v14c0 1.1.9 2 2 2h14c1.1 0 2-.9 2-2V5c0-1.1-.9-2-2-2zM9 17H7v-7h2v7zm4 0h-2V7h2v10zm4 0h-2v-4h2v4z\"/>\n",
              "    </g>\n",
              "</svg>\n",
              "  </button>\n",
              "\n",
              "<style>\n",
              "  .colab-df-quickchart {\n",
              "      --bg-color: #E8F0FE;\n",
              "      --fill-color: #1967D2;\n",
              "      --hover-bg-color: #E2EBFA;\n",
              "      --hover-fill-color: #174EA6;\n",
              "      --disabled-fill-color: #AAA;\n",
              "      --disabled-bg-color: #DDD;\n",
              "  }\n",
              "\n",
              "  [theme=dark] .colab-df-quickchart {\n",
              "      --bg-color: #3B4455;\n",
              "      --fill-color: #D2E3FC;\n",
              "      --hover-bg-color: #434B5C;\n",
              "      --hover-fill-color: #FFFFFF;\n",
              "      --disabled-bg-color: #3B4455;\n",
              "      --disabled-fill-color: #666;\n",
              "  }\n",
              "\n",
              "  .colab-df-quickchart {\n",
              "    background-color: var(--bg-color);\n",
              "    border: none;\n",
              "    border-radius: 50%;\n",
              "    cursor: pointer;\n",
              "    display: none;\n",
              "    fill: var(--fill-color);\n",
              "    height: 32px;\n",
              "    padding: 0;\n",
              "    width: 32px;\n",
              "  }\n",
              "\n",
              "  .colab-df-quickchart:hover {\n",
              "    background-color: var(--hover-bg-color);\n",
              "    box-shadow: 0 1px 2px rgba(60, 64, 67, 0.3), 0 1px 3px 1px rgba(60, 64, 67, 0.15);\n",
              "    fill: var(--button-hover-fill-color);\n",
              "  }\n",
              "\n",
              "  .colab-df-quickchart-complete:disabled,\n",
              "  .colab-df-quickchart-complete:disabled:hover {\n",
              "    background-color: var(--disabled-bg-color);\n",
              "    fill: var(--disabled-fill-color);\n",
              "    box-shadow: none;\n",
              "  }\n",
              "\n",
              "  .colab-df-spinner {\n",
              "    border: 2px solid var(--fill-color);\n",
              "    border-color: transparent;\n",
              "    border-bottom-color: var(--fill-color);\n",
              "    animation:\n",
              "      spin 1s steps(1) infinite;\n",
              "  }\n",
              "\n",
              "  @keyframes spin {\n",
              "    0% {\n",
              "      border-color: transparent;\n",
              "      border-bottom-color: var(--fill-color);\n",
              "      border-left-color: var(--fill-color);\n",
              "    }\n",
              "    20% {\n",
              "      border-color: transparent;\n",
              "      border-left-color: var(--fill-color);\n",
              "      border-top-color: var(--fill-color);\n",
              "    }\n",
              "    30% {\n",
              "      border-color: transparent;\n",
              "      border-left-color: var(--fill-color);\n",
              "      border-top-color: var(--fill-color);\n",
              "      border-right-color: var(--fill-color);\n",
              "    }\n",
              "    40% {\n",
              "      border-color: transparent;\n",
              "      border-right-color: var(--fill-color);\n",
              "      border-top-color: var(--fill-color);\n",
              "    }\n",
              "    60% {\n",
              "      border-color: transparent;\n",
              "      border-right-color: var(--fill-color);\n",
              "    }\n",
              "    80% {\n",
              "      border-color: transparent;\n",
              "      border-right-color: var(--fill-color);\n",
              "      border-bottom-color: var(--fill-color);\n",
              "    }\n",
              "    90% {\n",
              "      border-color: transparent;\n",
              "      border-bottom-color: var(--fill-color);\n",
              "    }\n",
              "  }\n",
              "</style>\n",
              "\n",
              "  <script>\n",
              "    async function quickchart(key) {\n",
              "      const quickchartButtonEl =\n",
              "        document.querySelector('#' + key + ' button');\n",
              "      quickchartButtonEl.disabled = true;  // To prevent multiple clicks.\n",
              "      quickchartButtonEl.classList.add('colab-df-spinner');\n",
              "      try {\n",
              "        const charts = await google.colab.kernel.invokeFunction(\n",
              "            'suggestCharts', [key], {});\n",
              "      } catch (error) {\n",
              "        console.error('Error during call to suggestCharts:', error);\n",
              "      }\n",
              "      quickchartButtonEl.classList.remove('colab-df-spinner');\n",
              "      quickchartButtonEl.classList.add('colab-df-quickchart-complete');\n",
              "    }\n",
              "    (() => {\n",
              "      let quickchartButtonEl =\n",
              "        document.querySelector('#df-fd1ca379-e156-401f-b1ad-deaa87f6a940 button');\n",
              "      quickchartButtonEl.style.display =\n",
              "        google.colab.kernel.accessAllowed ? 'block' : 'none';\n",
              "    })();\n",
              "  </script>\n",
              "</div>\n",
              "    </div>\n",
              "  </div>\n"
            ]
          },
          "metadata": {},
          "execution_count": 36
        }
      ],
      "source": [
        "X"
      ]
    },
    {
      "cell_type": "markdown",
      "metadata": {
        "id": "jRuyIdNL47G5"
      },
      "source": [
        "Lets print y"
      ]
    },
    {
      "cell_type": "code",
      "execution_count": 37,
      "metadata": {
        "id": "2v44BH3G8-ZL",
        "colab": {
          "base_uri": "https://localhost:8080/"
        },
        "outputId": "01dc1baa-5478-4515-92f3-8ccdb390ef1e"
      },
      "outputs": [
        {
          "output_type": "execute_result",
          "data": {
            "text/plain": [
              "0       91\n",
              "1       65\n",
              "2       45\n",
              "3       36\n",
              "4       66\n",
              "        ..\n",
              "9995    23\n",
              "9996    58\n",
              "9997    74\n",
              "9998    95\n",
              "9999    64\n",
              "Name: Performance Index, Length: 10000, dtype: int64"
            ]
          },
          "metadata": {},
          "execution_count": 37
        }
      ],
      "source": [
        "y"
      ]
    },
    {
      "cell_type": "markdown",
      "metadata": {
        "id": "U-1ToOXj5Ftj"
      },
      "source": [
        "Now, we will perform normalization on our input data to enhance our models performance. This is done by following the steps\n",
        "\n",
        "1. Store columns of X in a variable 'columns' by using the '.columns' method. We do this because using standard scaler converts our dataframe into a numpy array and in order to convert it back to a dataframe, we require the column names."
      ]
    },
    {
      "cell_type": "code",
      "execution_count": 38,
      "metadata": {
        "id": "xXNGlZELJ7i5"
      },
      "outputs": [],
      "source": [
        "columnsX = X.columns"
      ]
    },
    {
      "cell_type": "markdown",
      "metadata": {
        "id": "SSNF37tN5eBM"
      },
      "source": [
        "Lets print the columns variable"
      ]
    },
    {
      "cell_type": "code",
      "execution_count": 39,
      "metadata": {
        "id": "p24JrIQOJ-A-",
        "colab": {
          "base_uri": "https://localhost:8080/"
        },
        "outputId": "efbb2526-44a1-46ef-fe5f-4c8f86233413"
      },
      "outputs": [
        {
          "output_type": "execute_result",
          "data": {
            "text/plain": [
              "Index(['Previous Scores'], dtype='object')"
            ]
          },
          "metadata": {},
          "execution_count": 39
        }
      ],
      "source": [
        "columnsX"
      ]
    },
    {
      "cell_type": "markdown",
      "metadata": {
        "id": "GnfNAt3S6XpV"
      },
      "source": [
        "2. Lets create an instance of StandardScaler class to use it. Assign this to the variable 'scaler'."
      ]
    },
    {
      "cell_type": "code",
      "execution_count": 40,
      "metadata": {
        "id": "vsmwi-DT9j3o"
      },
      "outputs": [],
      "source": [
        "scaler = StandardScaler()"
      ]
    },
    {
      "cell_type": "markdown",
      "metadata": {
        "id": "0Xe-ySSu6p1c"
      },
      "source": [
        "3. Now, we will use the 'fit_transform()' method of standard scaler in order to do 2 things:\n",
        "\n",
        "\n",
        "  *   Find the standard deviation for our input data (fit)\n",
        "  *   Normalize our input data (transform)\n",
        "\n"
      ]
    },
    {
      "cell_type": "code",
      "execution_count": 41,
      "metadata": {
        "id": "KvA0J4wf9_lw"
      },
      "outputs": [],
      "source": [
        "X = scaler.fit_transform(X)"
      ]
    },
    {
      "cell_type": "markdown",
      "metadata": {
        "id": "0GBsqQ6Z7bys"
      },
      "source": [
        "4. Lets convert our normalized data to a dataframe again"
      ]
    },
    {
      "cell_type": "code",
      "execution_count": 42,
      "metadata": {
        "id": "SRA5Tkz7-gm1"
      },
      "outputs": [],
      "source": [
        "X = pd.DataFrame(X, columns = columnsX)"
      ]
    },
    {
      "cell_type": "markdown",
      "metadata": {
        "id": "uneQfG6h7kgX"
      },
      "source": [
        "Lets use the '.describe()' methood to see the change in our input data."
      ]
    },
    {
      "cell_type": "code",
      "execution_count": 43,
      "metadata": {
        "id": "WlDKew3OKJad",
        "colab": {
          "base_uri": "https://localhost:8080/",
          "height": 300
        },
        "outputId": "7f79c66f-68b6-40d5-cec9-c683c4b3519a"
      },
      "outputs": [
        {
          "output_type": "execute_result",
          "data": {
            "text/plain": [
              "       Previous Scores\n",
              "count     1.000000e+04\n",
              "mean     -1.296740e-16\n",
              "std       1.000050e+00\n",
              "min      -1.697914e+00\n",
              "25%      -8.906381e-01\n",
              "50%      -2.570019e-02\n",
              "75%       8.969003e-01\n",
              "max       1.704176e+00"
            ],
            "text/html": [
              "\n",
              "  <div id=\"df-8ab08b1d-d228-4c33-a026-22bebd5aa237\" class=\"colab-df-container\">\n",
              "    <div>\n",
              "<style scoped>\n",
              "    .dataframe tbody tr th:only-of-type {\n",
              "        vertical-align: middle;\n",
              "    }\n",
              "\n",
              "    .dataframe tbody tr th {\n",
              "        vertical-align: top;\n",
              "    }\n",
              "\n",
              "    .dataframe thead th {\n",
              "        text-align: right;\n",
              "    }\n",
              "</style>\n",
              "<table border=\"1\" class=\"dataframe\">\n",
              "  <thead>\n",
              "    <tr style=\"text-align: right;\">\n",
              "      <th></th>\n",
              "      <th>Previous Scores</th>\n",
              "    </tr>\n",
              "  </thead>\n",
              "  <tbody>\n",
              "    <tr>\n",
              "      <th>count</th>\n",
              "      <td>1.000000e+04</td>\n",
              "    </tr>\n",
              "    <tr>\n",
              "      <th>mean</th>\n",
              "      <td>-1.296740e-16</td>\n",
              "    </tr>\n",
              "    <tr>\n",
              "      <th>std</th>\n",
              "      <td>1.000050e+00</td>\n",
              "    </tr>\n",
              "    <tr>\n",
              "      <th>min</th>\n",
              "      <td>-1.697914e+00</td>\n",
              "    </tr>\n",
              "    <tr>\n",
              "      <th>25%</th>\n",
              "      <td>-8.906381e-01</td>\n",
              "    </tr>\n",
              "    <tr>\n",
              "      <th>50%</th>\n",
              "      <td>-2.570019e-02</td>\n",
              "    </tr>\n",
              "    <tr>\n",
              "      <th>75%</th>\n",
              "      <td>8.969003e-01</td>\n",
              "    </tr>\n",
              "    <tr>\n",
              "      <th>max</th>\n",
              "      <td>1.704176e+00</td>\n",
              "    </tr>\n",
              "  </tbody>\n",
              "</table>\n",
              "</div>\n",
              "    <div class=\"colab-df-buttons\">\n",
              "\n",
              "  <div class=\"colab-df-container\">\n",
              "    <button class=\"colab-df-convert\" onclick=\"convertToInteractive('df-8ab08b1d-d228-4c33-a026-22bebd5aa237')\"\n",
              "            title=\"Convert this dataframe to an interactive table.\"\n",
              "            style=\"display:none;\">\n",
              "\n",
              "  <svg xmlns=\"http://www.w3.org/2000/svg\" height=\"24px\" viewBox=\"0 -960 960 960\">\n",
              "    <path d=\"M120-120v-720h720v720H120Zm60-500h600v-160H180v160Zm220 220h160v-160H400v160Zm0 220h160v-160H400v160ZM180-400h160v-160H180v160Zm440 0h160v-160H620v160ZM180-180h160v-160H180v160Zm440 0h160v-160H620v160Z\"/>\n",
              "  </svg>\n",
              "    </button>\n",
              "\n",
              "  <style>\n",
              "    .colab-df-container {\n",
              "      display:flex;\n",
              "      gap: 12px;\n",
              "    }\n",
              "\n",
              "    .colab-df-convert {\n",
              "      background-color: #E8F0FE;\n",
              "      border: none;\n",
              "      border-radius: 50%;\n",
              "      cursor: pointer;\n",
              "      display: none;\n",
              "      fill: #1967D2;\n",
              "      height: 32px;\n",
              "      padding: 0 0 0 0;\n",
              "      width: 32px;\n",
              "    }\n",
              "\n",
              "    .colab-df-convert:hover {\n",
              "      background-color: #E2EBFA;\n",
              "      box-shadow: 0px 1px 2px rgba(60, 64, 67, 0.3), 0px 1px 3px 1px rgba(60, 64, 67, 0.15);\n",
              "      fill: #174EA6;\n",
              "    }\n",
              "\n",
              "    .colab-df-buttons div {\n",
              "      margin-bottom: 4px;\n",
              "    }\n",
              "\n",
              "    [theme=dark] .colab-df-convert {\n",
              "      background-color: #3B4455;\n",
              "      fill: #D2E3FC;\n",
              "    }\n",
              "\n",
              "    [theme=dark] .colab-df-convert:hover {\n",
              "      background-color: #434B5C;\n",
              "      box-shadow: 0px 1px 3px 1px rgba(0, 0, 0, 0.15);\n",
              "      filter: drop-shadow(0px 1px 2px rgba(0, 0, 0, 0.3));\n",
              "      fill: #FFFFFF;\n",
              "    }\n",
              "  </style>\n",
              "\n",
              "    <script>\n",
              "      const buttonEl =\n",
              "        document.querySelector('#df-8ab08b1d-d228-4c33-a026-22bebd5aa237 button.colab-df-convert');\n",
              "      buttonEl.style.display =\n",
              "        google.colab.kernel.accessAllowed ? 'block' : 'none';\n",
              "\n",
              "      async function convertToInteractive(key) {\n",
              "        const element = document.querySelector('#df-8ab08b1d-d228-4c33-a026-22bebd5aa237');\n",
              "        const dataTable =\n",
              "          await google.colab.kernel.invokeFunction('convertToInteractive',\n",
              "                                                    [key], {});\n",
              "        if (!dataTable) return;\n",
              "\n",
              "        const docLinkHtml = 'Like what you see? Visit the ' +\n",
              "          '<a target=\"_blank\" href=https://colab.research.google.com/notebooks/data_table.ipynb>data table notebook</a>'\n",
              "          + ' to learn more about interactive tables.';\n",
              "        element.innerHTML = '';\n",
              "        dataTable['output_type'] = 'display_data';\n",
              "        await google.colab.output.renderOutput(dataTable, element);\n",
              "        const docLink = document.createElement('div');\n",
              "        docLink.innerHTML = docLinkHtml;\n",
              "        element.appendChild(docLink);\n",
              "      }\n",
              "    </script>\n",
              "  </div>\n",
              "\n",
              "\n",
              "<div id=\"df-899867da-c879-4882-b292-1b345218f541\">\n",
              "  <button class=\"colab-df-quickchart\" onclick=\"quickchart('df-899867da-c879-4882-b292-1b345218f541')\"\n",
              "            title=\"Suggest charts.\"\n",
              "            style=\"display:none;\">\n",
              "\n",
              "<svg xmlns=\"http://www.w3.org/2000/svg\" height=\"24px\"viewBox=\"0 0 24 24\"\n",
              "     width=\"24px\">\n",
              "    <g>\n",
              "        <path d=\"M19 3H5c-1.1 0-2 .9-2 2v14c0 1.1.9 2 2 2h14c1.1 0 2-.9 2-2V5c0-1.1-.9-2-2-2zM9 17H7v-7h2v7zm4 0h-2V7h2v10zm4 0h-2v-4h2v4z\"/>\n",
              "    </g>\n",
              "</svg>\n",
              "  </button>\n",
              "\n",
              "<style>\n",
              "  .colab-df-quickchart {\n",
              "      --bg-color: #E8F0FE;\n",
              "      --fill-color: #1967D2;\n",
              "      --hover-bg-color: #E2EBFA;\n",
              "      --hover-fill-color: #174EA6;\n",
              "      --disabled-fill-color: #AAA;\n",
              "      --disabled-bg-color: #DDD;\n",
              "  }\n",
              "\n",
              "  [theme=dark] .colab-df-quickchart {\n",
              "      --bg-color: #3B4455;\n",
              "      --fill-color: #D2E3FC;\n",
              "      --hover-bg-color: #434B5C;\n",
              "      --hover-fill-color: #FFFFFF;\n",
              "      --disabled-bg-color: #3B4455;\n",
              "      --disabled-fill-color: #666;\n",
              "  }\n",
              "\n",
              "  .colab-df-quickchart {\n",
              "    background-color: var(--bg-color);\n",
              "    border: none;\n",
              "    border-radius: 50%;\n",
              "    cursor: pointer;\n",
              "    display: none;\n",
              "    fill: var(--fill-color);\n",
              "    height: 32px;\n",
              "    padding: 0;\n",
              "    width: 32px;\n",
              "  }\n",
              "\n",
              "  .colab-df-quickchart:hover {\n",
              "    background-color: var(--hover-bg-color);\n",
              "    box-shadow: 0 1px 2px rgba(60, 64, 67, 0.3), 0 1px 3px 1px rgba(60, 64, 67, 0.15);\n",
              "    fill: var(--button-hover-fill-color);\n",
              "  }\n",
              "\n",
              "  .colab-df-quickchart-complete:disabled,\n",
              "  .colab-df-quickchart-complete:disabled:hover {\n",
              "    background-color: var(--disabled-bg-color);\n",
              "    fill: var(--disabled-fill-color);\n",
              "    box-shadow: none;\n",
              "  }\n",
              "\n",
              "  .colab-df-spinner {\n",
              "    border: 2px solid var(--fill-color);\n",
              "    border-color: transparent;\n",
              "    border-bottom-color: var(--fill-color);\n",
              "    animation:\n",
              "      spin 1s steps(1) infinite;\n",
              "  }\n",
              "\n",
              "  @keyframes spin {\n",
              "    0% {\n",
              "      border-color: transparent;\n",
              "      border-bottom-color: var(--fill-color);\n",
              "      border-left-color: var(--fill-color);\n",
              "    }\n",
              "    20% {\n",
              "      border-color: transparent;\n",
              "      border-left-color: var(--fill-color);\n",
              "      border-top-color: var(--fill-color);\n",
              "    }\n",
              "    30% {\n",
              "      border-color: transparent;\n",
              "      border-left-color: var(--fill-color);\n",
              "      border-top-color: var(--fill-color);\n",
              "      border-right-color: var(--fill-color);\n",
              "    }\n",
              "    40% {\n",
              "      border-color: transparent;\n",
              "      border-right-color: var(--fill-color);\n",
              "      border-top-color: var(--fill-color);\n",
              "    }\n",
              "    60% {\n",
              "      border-color: transparent;\n",
              "      border-right-color: var(--fill-color);\n",
              "    }\n",
              "    80% {\n",
              "      border-color: transparent;\n",
              "      border-right-color: var(--fill-color);\n",
              "      border-bottom-color: var(--fill-color);\n",
              "    }\n",
              "    90% {\n",
              "      border-color: transparent;\n",
              "      border-bottom-color: var(--fill-color);\n",
              "    }\n",
              "  }\n",
              "</style>\n",
              "\n",
              "  <script>\n",
              "    async function quickchart(key) {\n",
              "      const quickchartButtonEl =\n",
              "        document.querySelector('#' + key + ' button');\n",
              "      quickchartButtonEl.disabled = true;  // To prevent multiple clicks.\n",
              "      quickchartButtonEl.classList.add('colab-df-spinner');\n",
              "      try {\n",
              "        const charts = await google.colab.kernel.invokeFunction(\n",
              "            'suggestCharts', [key], {});\n",
              "      } catch (error) {\n",
              "        console.error('Error during call to suggestCharts:', error);\n",
              "      }\n",
              "      quickchartButtonEl.classList.remove('colab-df-spinner');\n",
              "      quickchartButtonEl.classList.add('colab-df-quickchart-complete');\n",
              "    }\n",
              "    (() => {\n",
              "      let quickchartButtonEl =\n",
              "        document.querySelector('#df-899867da-c879-4882-b292-1b345218f541 button');\n",
              "      quickchartButtonEl.style.display =\n",
              "        google.colab.kernel.accessAllowed ? 'block' : 'none';\n",
              "    })();\n",
              "  </script>\n",
              "</div>\n",
              "    </div>\n",
              "  </div>\n"
            ]
          },
          "metadata": {},
          "execution_count": 43
        }
      ],
      "source": [
        "X.describe()"
      ]
    },
    {
      "cell_type": "markdown",
      "metadata": {
        "id": "jEeCb0Wd7yTq"
      },
      "source": [
        "Now, we will use the 'train_test_split()' method in order to split our data into training and test data. We will store this in 4 variables: train_X, test_X, train_y, test_y. We will split our data as 80% training data, 20% testing data."
      ]
    },
    {
      "cell_type": "code",
      "execution_count": 44,
      "metadata": {
        "id": "nT-NlQqhAL8u"
      },
      "outputs": [],
      "source": [
        "train_x, test_x, train_y, test_y = train_test_split(X, y, test_size = 0.2, shuffle = False, stratify = None)"
      ]
    },
    {
      "cell_type": "markdown",
      "metadata": {
        "id": "TopAAcj18YJR"
      },
      "source": [
        "Now, lets create an instance of the LinearRegression() class to use the model. Assign this to the variable 'lr'."
      ]
    },
    {
      "cell_type": "code",
      "execution_count": 45,
      "metadata": {
        "id": "rnCpZrodCEJI"
      },
      "outputs": [],
      "source": [
        "lr = LinearRegression()"
      ]
    },
    {
      "cell_type": "markdown",
      "metadata": {
        "id": "6MVSjF4z8yQg"
      },
      "source": [
        "Now, we will train the model on our training data. We can do this by using the 'fit()' method."
      ]
    },
    {
      "cell_type": "code",
      "execution_count": 46,
      "metadata": {
        "id": "cJZ40lfUCZWq",
        "colab": {
          "base_uri": "https://localhost:8080/",
          "height": 75
        },
        "outputId": "774ce2a0-250b-4176-80db-6d986db6e161"
      },
      "outputs": [
        {
          "output_type": "execute_result",
          "data": {
            "text/plain": [
              "LinearRegression()"
            ],
            "text/html": [
              "<style>#sk-container-id-1 {color: black;background-color: white;}#sk-container-id-1 pre{padding: 0;}#sk-container-id-1 div.sk-toggleable {background-color: white;}#sk-container-id-1 label.sk-toggleable__label {cursor: pointer;display: block;width: 100%;margin-bottom: 0;padding: 0.3em;box-sizing: border-box;text-align: center;}#sk-container-id-1 label.sk-toggleable__label-arrow:before {content: \"▸\";float: left;margin-right: 0.25em;color: #696969;}#sk-container-id-1 label.sk-toggleable__label-arrow:hover:before {color: black;}#sk-container-id-1 div.sk-estimator:hover label.sk-toggleable__label-arrow:before {color: black;}#sk-container-id-1 div.sk-toggleable__content {max-height: 0;max-width: 0;overflow: hidden;text-align: left;background-color: #f0f8ff;}#sk-container-id-1 div.sk-toggleable__content pre {margin: 0.2em;color: black;border-radius: 0.25em;background-color: #f0f8ff;}#sk-container-id-1 input.sk-toggleable__control:checked~div.sk-toggleable__content {max-height: 200px;max-width: 100%;overflow: auto;}#sk-container-id-1 input.sk-toggleable__control:checked~label.sk-toggleable__label-arrow:before {content: \"▾\";}#sk-container-id-1 div.sk-estimator input.sk-toggleable__control:checked~label.sk-toggleable__label {background-color: #d4ebff;}#sk-container-id-1 div.sk-label input.sk-toggleable__control:checked~label.sk-toggleable__label {background-color: #d4ebff;}#sk-container-id-1 input.sk-hidden--visually {border: 0;clip: rect(1px 1px 1px 1px);clip: rect(1px, 1px, 1px, 1px);height: 1px;margin: -1px;overflow: hidden;padding: 0;position: absolute;width: 1px;}#sk-container-id-1 div.sk-estimator {font-family: monospace;background-color: #f0f8ff;border: 1px dotted black;border-radius: 0.25em;box-sizing: border-box;margin-bottom: 0.5em;}#sk-container-id-1 div.sk-estimator:hover {background-color: #d4ebff;}#sk-container-id-1 div.sk-parallel-item::after {content: \"\";width: 100%;border-bottom: 1px solid gray;flex-grow: 1;}#sk-container-id-1 div.sk-label:hover label.sk-toggleable__label {background-color: #d4ebff;}#sk-container-id-1 div.sk-serial::before {content: \"\";position: absolute;border-left: 1px solid gray;box-sizing: border-box;top: 0;bottom: 0;left: 50%;z-index: 0;}#sk-container-id-1 div.sk-serial {display: flex;flex-direction: column;align-items: center;background-color: white;padding-right: 0.2em;padding-left: 0.2em;position: relative;}#sk-container-id-1 div.sk-item {position: relative;z-index: 1;}#sk-container-id-1 div.sk-parallel {display: flex;align-items: stretch;justify-content: center;background-color: white;position: relative;}#sk-container-id-1 div.sk-item::before, #sk-container-id-1 div.sk-parallel-item::before {content: \"\";position: absolute;border-left: 1px solid gray;box-sizing: border-box;top: 0;bottom: 0;left: 50%;z-index: -1;}#sk-container-id-1 div.sk-parallel-item {display: flex;flex-direction: column;z-index: 1;position: relative;background-color: white;}#sk-container-id-1 div.sk-parallel-item:first-child::after {align-self: flex-end;width: 50%;}#sk-container-id-1 div.sk-parallel-item:last-child::after {align-self: flex-start;width: 50%;}#sk-container-id-1 div.sk-parallel-item:only-child::after {width: 0;}#sk-container-id-1 div.sk-dashed-wrapped {border: 1px dashed gray;margin: 0 0.4em 0.5em 0.4em;box-sizing: border-box;padding-bottom: 0.4em;background-color: white;}#sk-container-id-1 div.sk-label label {font-family: monospace;font-weight: bold;display: inline-block;line-height: 1.2em;}#sk-container-id-1 div.sk-label-container {text-align: center;}#sk-container-id-1 div.sk-container {/* jupyter's `normalize.less` sets `[hidden] { display: none; }` but bootstrap.min.css set `[hidden] { display: none !important; }` so we also need the `!important` here to be able to override the default hidden behavior on the sphinx rendered scikit-learn.org. See: https://github.com/scikit-learn/scikit-learn/issues/21755 */display: inline-block !important;position: relative;}#sk-container-id-1 div.sk-text-repr-fallback {display: none;}</style><div id=\"sk-container-id-1\" class=\"sk-top-container\"><div class=\"sk-text-repr-fallback\"><pre>LinearRegression()</pre><b>In a Jupyter environment, please rerun this cell to show the HTML representation or trust the notebook. <br />On GitHub, the HTML representation is unable to render, please try loading this page with nbviewer.org.</b></div><div class=\"sk-container\" hidden><div class=\"sk-item\"><div class=\"sk-estimator sk-toggleable\"><input class=\"sk-toggleable__control sk-hidden--visually\" id=\"sk-estimator-id-1\" type=\"checkbox\" checked><label for=\"sk-estimator-id-1\" class=\"sk-toggleable__label sk-toggleable__label-arrow\">LinearRegression</label><div class=\"sk-toggleable__content\"><pre>LinearRegression()</pre></div></div></div></div></div>"
            ]
          },
          "metadata": {},
          "execution_count": 46
        }
      ],
      "source": [
        "lr.fit(train_x, train_y)"
      ]
    },
    {
      "cell_type": "markdown",
      "metadata": {
        "id": "zEgONjya9JIr"
      },
      "source": [
        "Now that our model is trained, we can use it to make predictions using the '.predict()' method. Lets make predictions on the training data and store it in the variable 'train_predictions'"
      ]
    },
    {
      "cell_type": "code",
      "execution_count": 47,
      "metadata": {
        "id": "wWheNFycDcdE"
      },
      "outputs": [],
      "source": [
        "train_predictions  = lr.predict(train_x)"
      ]
    },
    {
      "cell_type": "markdown",
      "metadata": {
        "id": "AqQMRY0R9bsh"
      },
      "source": [
        "Lets make predictions on the testing data and store it in the variable 'test_predictions'"
      ]
    },
    {
      "cell_type": "code",
      "execution_count": 48,
      "metadata": {
        "id": "iCryhKJrCc3b"
      },
      "outputs": [],
      "source": [
        "test_predictions = lr.predict(test_x)"
      ]
    },
    {
      "cell_type": "markdown",
      "metadata": {
        "id": "NQPlN_PH9hRg"
      },
      "source": [
        "Now, we will use the 'mean_squared_error()' method to find the mean squared error for our predictions on the **training **data. We will do this by comparing with the target values of training data."
      ]
    },
    {
      "cell_type": "code",
      "execution_count": 49,
      "metadata": {
        "id": "ikfgxiYVE4fA"
      },
      "outputs": [],
      "source": [
        "train_mse = mean_squared_error(train_y, train_predictions)"
      ]
    },
    {
      "cell_type": "markdown",
      "metadata": {
        "id": "JTBYbtKv9yrp"
      },
      "source": [
        "Print the training mean squared error"
      ]
    },
    {
      "cell_type": "code",
      "execution_count": 50,
      "metadata": {
        "id": "XxrqngMODkCS",
        "colab": {
          "base_uri": "https://localhost:8080/"
        },
        "outputId": "8e430aac-2c8c-46d9-ada8-82d93864640e"
      },
      "outputs": [
        {
          "output_type": "execute_result",
          "data": {
            "text/plain": [
              "59.77420165717037"
            ]
          },
          "metadata": {},
          "execution_count": 50
        }
      ],
      "source": [
        "train_mse"
      ]
    },
    {
      "cell_type": "markdown",
      "metadata": {
        "id": "_X6M5Ums9xj5"
      },
      "source": [
        "Now, we will use the same method to find the mean squared error for our predictions on the **testing** data. We will do this by comparing with the target values of testing data."
      ]
    },
    {
      "cell_type": "code",
      "execution_count": 51,
      "metadata": {
        "id": "wAMkhXJbCnvh"
      },
      "outputs": [],
      "source": [
        "test_mse = mean_squared_error(test_y, test_predictions)"
      ]
    },
    {
      "cell_type": "markdown",
      "metadata": {
        "id": "MTNDbHKC-CV8"
      },
      "source": [
        "Print the testing mean squared error"
      ]
    },
    {
      "cell_type": "code",
      "execution_count": 52,
      "metadata": {
        "id": "xt_XhXo_DMDL",
        "colab": {
          "base_uri": "https://localhost:8080/"
        },
        "outputId": "bfb5641d-72b3-446e-9c0e-6d406dcbc27a"
      },
      "outputs": [
        {
          "output_type": "execute_result",
          "data": {
            "text/plain": [
              "60.66661485084574"
            ]
          },
          "metadata": {},
          "execution_count": 52
        }
      ],
      "source": [
        "test_mse"
      ]
    },
    {
      "cell_type": "markdown",
      "metadata": {
        "id": "u6JHwOHh-FTa"
      },
      "source": [
        "Great work! Lets visualise our predictions. Run the cells below."
      ]
    },
    {
      "cell_type": "code",
      "execution_count": 55,
      "metadata": {
        "id": "Jl2wVzHUDM8K",
        "colab": {
          "base_uri": "https://localhost:8080/",
          "height": 564
        },
        "outputId": "a9c54951-6844-426c-ebea-8881bce935c0"
      },
      "outputs": [
        {
          "output_type": "display_data",
          "data": {
            "text/plain": [
              "<Figure size 800x600 with 1 Axes>"
            ],
            "image/png": "[encoded data removed]"
          },
          "metadata": {}
        }
      ],
      "source": [
        "plt.figure(figsize=(8, 6))\n",
        "plt.scatter(train_y, train_predictions, c='blue', label='True Predictions')\n",
        "plt.plot([min(train_y), max(train_y)], [min(train_y), max(train_y)], linestyle='--', color='red', label='Prediction line')\n",
        "plt.xlabel('True Values')\n",
        "plt.ylabel('Predicted Values')\n",
        "plt.title('Training True vs Predicted Values')\n",
        "plt.legend()\n",
        "plt.grid(True)\n",
        "plt.show()"
      ]
    },
    {
      "cell_type": "code",
      "execution_count": 56,
      "metadata": {
        "id": "rJebvlFecZ5Y",
        "colab": {
          "base_uri": "https://localhost:8080/",
          "height": 564
        },
        "outputId": "6e387c8b-fcc3-424d-b383-75dd7fb7cb82"
      },
      "outputs": [
        {
          "output_type": "display_data",
          "data": {
            "text/plain": [
              "<Figure size 800x600 with 1 Axes>"
            ],
            "image/png": "[encoded data removed]"
          },
          "metadata": {}
        }
      ],
      "source": [
        "plt.figure(figsize=(8, 6))\n",
        "plt.scatter(test_y, test_predictions, c='blue', label='True Predictions')\n",
        "plt.plot([min(test_y), max(test_y)], [min(test_y), max(test_y)], linestyle='--', color='red', label='Prediction line')\n",
        "plt.xlabel('True Values')\n",
        "plt.ylabel('Predicted Values')\n",
        "plt.title('Testing True vs Predicted Values')\n",
        "plt.legend()\n",
        "plt.grid(True)\n",
        "plt.show()"
      ]
    },
    {
      "cell_type": "markdown",
      "metadata": {
        "id": "Ofc6wmCf-rri"
      },
      "source": [
        "As we see, we can generalize and make predictions fairly well."
      ]
    },
    {
      "cell_type": "markdown",
      "metadata": {
        "id": "G4H-wTcH-PCT"
      },
      "source": [
        "Now, lets use the '.predict()' method of LinearRegression to make a prediction on our first training example (at index 0). We can access a training example in a dataframe using '.iloc[]'"
      ]
    },
    {
      "cell_type": "code",
      "execution_count": 57,
      "metadata": {
        "id": "x7bzO6jBcyDM",
        "colab": {
          "base_uri": "https://localhost:8080/"
        },
        "outputId": "0e5d4082-378f-4374-c206-0a6e3473168f"
      },
      "outputs": [
        {
          "output_type": "execute_result",
          "data": {
            "text/plain": [
              "array([85.16748616])"
            ]
          },
          "metadata": {},
          "execution_count": 57
        }
      ],
      "source": [
        "lr.predict(train_x.iloc[[0]])"
      ]
    },
    {
      "cell_type": "markdown",
      "metadata": {
        "id": "TjqEe8QMAsQk"
      },
      "source": [
        "Lets see what the true target value of our first training example."
      ]
    },
    {
      "cell_type": "code",
      "execution_count": 58,
      "metadata": {
        "id": "kKZrtV_9e2X9",
        "colab": {
          "base_uri": "https://localhost:8080/"
        },
        "outputId": "b6acdfe4-f943-4ee6-9319-8ea15db07759"
      },
      "outputs": [
        {
          "output_type": "execute_result",
          "data": {
            "text/plain": [
              "0    91\n",
              "Name: Performance Index, dtype: int64"
            ]
          },
          "metadata": {},
          "execution_count": 58
        }
      ],
      "source": [
        "train_y.iloc[[0]]"
      ]
    },
    {
      "cell_type": "markdown",
      "metadata": {
        "id": "Ijen3RQuA12U"
      },
      "source": [
        "As we can see, the performance is still not as great as our cost is pretty high and the actual target value and predicted target value are really different."
      ]
    }
  ],
  "metadata": {
    "colab": {
      "provenance": []
    },
    "kernelspec": {
      "display_name": "Python 3",
      "name": "python3"
    },
    "language_info": {
      "name": "python"
    }
  },
  "nbformat": 4,
  "nbformat_minor": 0
}