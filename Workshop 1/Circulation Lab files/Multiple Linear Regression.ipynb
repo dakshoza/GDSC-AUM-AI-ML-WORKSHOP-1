{
  "cells": [
    {
      "cell_type": "markdown",
      "metadata": {
        "id": "QaEtSetdXltz"
      },
      "source": []
    },
    {
      "cell_type": "markdown",
      "metadata": {
        "id": "kxJ20MPmScGy"
      },
      "source": [
        "Fist, lets import all the required libraries, which are:\n",
        "\n",
        "*   numpy\n",
        "*   pandas\n",
        "*   matplotlib.pyplot\n",
        "*   StandardScaler\n",
        "*   train_test_split\n",
        "*   LinearRegression\n",
        "*   mean_squared_error\n",
        "\n"
      ]
    },
    {
      "cell_type": "code",
      "execution_count": null,
      "metadata": {
        "id": "dcvxeDo2SpWm"
      },
      "outputs": [],
      "source": []
    },
    {
      "cell_type": "markdown",
      "metadata": {
        "id": "Sm-9NAqDJ5iu"
      },
      "source": [
        "Lets read the csv file and store it into a dataframe. We will use the path of the multiple linear regression file to do this."
      ]
    },
    {
      "cell_type": "code",
      "execution_count": null,
      "metadata": {
        "id": "1GEJfn3ibGB9"
      },
      "outputs": [],
      "source": []
    },
    {
      "cell_type": "markdown",
      "metadata": {
        "id": "8fnqXE5qJ9d0"
      },
      "source": [
        "Run the cell below to set new input and target values. Notice that our input data is now a 2-dimensional array, or a matrix."
      ]
    },
    {
      "cell_type": "code",
      "execution_count": null,
      "metadata": {
        "colab": {
          "base_uri": "https://localhost:8080/",
          "height": 423
        },
        "id": "UwYVpm5ZbzRu",
        "outputId": "b30fb1fd-727c-44fe-a401-b85048ca2c20"
      },
      "outputs": [],
      "source": []
    },
    {
      "cell_type": "markdown",
      "metadata": {
        "id": "H7X3Wj58KAlI"
      },
      "source": [
        "Run the cell below to visualise our data"
      ]
    },
    {
      "cell_type": "code",
      "execution_count": null,
      "metadata": {
        "colab": {
          "base_uri": "https://localhost:8080/",
          "height": 1000
        },
        "id": "x5RtssyI65rH",
        "outputId": "1c4b69b4-0c4b-4337-8e88-a5f7b48f49a1"
      },
      "outputs": [],
      "source": [
        "columns_to_plot = ['Hours Studied', 'Previous Scores', 'Extracurricular Activities', 'Sleep Hours', 'Sample Question Papers Practiced']\n",
        "for column in columns_to_plot:\n",
        "    plt.figure(figsize=(8, 6))\n",
        "    plt.scatter(df[column], df['Performance Index'])\n",
        "    plt.xlabel(column)\n",
        "    plt.ylabel('Performance Index')\n",
        "    plt.title(f'{column} vs Performance Index')\n",
        "    plt.grid(True)\n",
        "    plt.show()\n",
        "plt.show()"
      ]
    },
    {
      "cell_type": "markdown",
      "metadata": {
        "id": "OvWM_TiDKFCP"
      },
      "source": [
        "Lets understand our data a little more by using the '.describe()' method"
      ]
    },
    {
      "cell_type": "code",
      "execution_count": null,
      "metadata": {
        "colab": {
          "base_uri": "https://localhost:8080/",
          "height": 300
        },
        "id": "3Xp89j8NbF-_",
        "outputId": "1384c6c2-a550-4add-9043-51af3bbb77ef"
      },
      "outputs": [],
      "source": []
    },
    {
      "cell_type": "markdown",
      "metadata": {
        "id": "UQ6_Csh8KJ9M"
      },
      "source": [
        "Now, lets set our input data as 'X'.\n",
        "We will set X as every column except the performance index column. We will do this by dropping only the performance index column.\n",
        "\n",
        "Lets set our target data as 'y'.\n",
        "We will set y as the Performance Index column."
      ]
    },
    {
      "cell_type": "code",
      "execution_count": null,
      "metadata": {
        "id": "VqOFxGSMbF6B"
      },
      "outputs": [],
      "source": []
    },
    {
      "cell_type": "markdown",
      "metadata": {
        "id": "bZSxeH6GKceK"
      },
      "source": [
        "Visualise the data by printing both X and y"
      ]
    },
    {
      "cell_type": "code",
      "execution_count": null,
      "metadata": {
        "colab": {
          "base_uri": "https://localhost:8080/",
          "height": 423
        },
        "id": "nl_zKabMbF3q",
        "outputId": "42a545c4-2815-4db1-e71b-bc82c72208ea"
      },
      "outputs": [],
      "source": []
    },
    {
      "cell_type": "code",
      "execution_count": null,
      "metadata": {
        "colab": {
          "base_uri": "https://localhost:8080/"
        },
        "id": "wlEVUZaNbF0p",
        "outputId": "749aa5d2-5b28-4a60-e21c-bd9b50e18354"
      },
      "outputs": [],
      "source": []
    },
    {
      "cell_type": "markdown",
      "metadata": {
        "id": "OzUOS3GwKheQ"
      },
      "source": [
        "Now, we see that the extracurricular activities column isn't numerically represented. In order to do so, we will implement one-hot encoding, converting yes to 1 and no to 0 so that our model can actually understand the data.\n",
        "\n",
        "We will make use of the '.replace()' method"
      ]
    },
    {
      "cell_type": "code",
      "execution_count": null,
      "metadata": {
        "id": "K1JMRiwab7wR"
      },
      "outputs": [],
      "source": []
    },
    {
      "cell_type": "markdown",
      "metadata": {
        "id": "qepVzfNBK5dw"
      },
      "source": [
        "Lets visualise the changes"
      ]
    },
    {
      "cell_type": "code",
      "execution_count": null,
      "metadata": {
        "colab": {
          "base_uri": "https://localhost:8080/",
          "height": 423
        },
        "id": "B0abkpINb7s9",
        "outputId": "914cfd62-2ddf-4857-de9b-af53440c6fa3"
      },
      "outputs": [],
      "source": []
    },
    {
      "cell_type": "markdown",
      "metadata": {
        "id": "Y8NOsJf2LRBf"
      },
      "source": [
        "Now, we will perform standard scaling on our input dataset X. We will follow the same procedure as single linear regression.\n",
        "\n",
        "1. Store columns of X in a variable 'columns' by using the '.columns' method. We do this because using standard scaler converts our dataframe into a numpy array and in order to convert it back to a dataframe, we require the column names.\n",
        "\n"
      ]
    },
    {
      "cell_type": "code",
      "execution_count": null,
      "metadata": {
        "id": "jF_E_jdvb7q2"
      },
      "outputs": [],
      "source": []
    },
    {
      "cell_type": "markdown",
      "metadata": {
        "id": "f5ZezTX2Lous"
      },
      "source": [
        "Lets print the columns"
      ]
    },
    {
      "cell_type": "code",
      "execution_count": null,
      "metadata": {
        "colab": {
          "base_uri": "https://localhost:8080/"
        },
        "id": "KOUMVFDKb7pU",
        "outputId": "4e0f09cd-9a16-4311-9645-77c34f4c85cc"
      },
      "outputs": [],
      "source": []
    },
    {
      "cell_type": "markdown",
      "metadata": {
        "id": "WFcyPRs9Wgik"
      },
      "source": [
        "2. Lets create an instance of StandardScaler\n"
      ]
    },
    {
      "cell_type": "code",
      "execution_count": null,
      "metadata": {
        "id": "ErgnrOVSTpMC"
      },
      "outputs": [],
      "source": []
    },
    {
      "cell_type": "markdown",
      "metadata": {
        "id": "ySoN2GnpLxl8"
      },
      "source": [
        "\n",
        "3. Now, we will use the 'fit_transform()' method of standard scaler in order to do 2 things:\n",
        "  -  Find the standard deviation for our input data (fit)\n",
        "  -   Normalize our input data (transform)"
      ]
    },
    {
      "cell_type": "code",
      "execution_count": null,
      "metadata": {
        "id": "E6HC3W6ab7me"
      },
      "outputs": [],
      "source": []
    },
    {
      "cell_type": "markdown",
      "metadata": {
        "id": "GfSSO9NbMDzn"
      },
      "source": [
        "4. Lets convert our normalized data to a dataframe again"
      ]
    },
    {
      "cell_type": "code",
      "execution_count": null,
      "metadata": {
        "id": "VcnLeHwob7jq"
      },
      "outputs": [],
      "source": []
    },
    {
      "cell_type": "markdown",
      "metadata": {
        "id": "nH24xWSyMMaP"
      },
      "source": [
        "Lets print X to see the normalized data"
      ]
    },
    {
      "cell_type": "code",
      "execution_count": null,
      "metadata": {
        "colab": {
          "base_uri": "https://localhost:8080/",
          "height": 423
        },
        "id": "4vxSNaA2b7hG",
        "outputId": "32e764f9-6f22-478c-ee83-7a9c2e5a4804"
      },
      "outputs": [],
      "source": []
    },
    {
      "cell_type": "markdown",
      "metadata": {
        "id": "SyNGyV4_MR1q"
      },
      "source": [
        "Now, we will use the 'train_test_split()' method in order to split our data into training and test data. We will store this in 4 variables: train_X, test_X, train_y, test_y. We will split our data as 80% training data, 20% testing data."
      ]
    },
    {
      "cell_type": "code",
      "execution_count": null,
      "metadata": {
        "id": "41Fk9m-ScHvW"
      },
      "outputs": [],
      "source": []
    },
    {
      "cell_type": "markdown",
      "metadata": {
        "id": "w1NNMO1BMV5B"
      },
      "source": [
        "Lets create an instance of LinearRegression"
      ]
    },
    {
      "cell_type": "code",
      "execution_count": null,
      "metadata": {
        "id": "MNodEB8qTtcw"
      },
      "outputs": [],
      "source": []
    },
    {
      "cell_type": "markdown",
      "metadata": {
        "id": "Pikp5e4pT5jp"
      },
      "source": [
        "Lets train the linear regression model on our training data using the '.fit()' method"
      ]
    },
    {
      "cell_type": "code",
      "execution_count": null,
      "metadata": {
        "colab": {
          "base_uri": "https://localhost:8080/",
          "height": 74
        },
        "id": "SyZTTIm2cHtH",
        "outputId": "c8226a74-a935-4613-bb5b-86f4faba6f18"
      },
      "outputs": [],
      "source": []
    },
    {
      "cell_type": "markdown",
      "metadata": {
        "id": "rqVmsqqmMjVB"
      },
      "source": [
        "Lets make predictions on the training data and store it in the variable 'train_predictions'"
      ]
    },
    {
      "cell_type": "code",
      "execution_count": null,
      "metadata": {
        "id": "uuzY7p3ecHq1"
      },
      "outputs": [],
      "source": []
    },
    {
      "cell_type": "markdown",
      "metadata": {
        "id": "YPGSEeMEMpEm"
      },
      "source": [
        "Lets make predictions on the testing data and store it in the variable 'test_predictions'"
      ]
    },
    {
      "cell_type": "code",
      "execution_count": null,
      "metadata": {
        "id": "urnSZOe9cHoS"
      },
      "outputs": [],
      "source": []
    },
    {
      "cell_type": "markdown",
      "metadata": {
        "id": "wDT9GkFaMs80"
      },
      "source": [
        "Now, we will use the 'mean_squared_error()' method to find the mean squared error for our predictions on the **training** data. We will do this by comparing with the target values of training data."
      ]
    },
    {
      "cell_type": "code",
      "execution_count": null,
      "metadata": {
        "id": "vsgzCftJcHlr"
      },
      "outputs": [],
      "source": []
    },
    {
      "cell_type": "markdown",
      "metadata": {
        "id": "9cjTsZ2TM0_a"
      },
      "source": [
        "Print the training mse"
      ]
    },
    {
      "cell_type": "code",
      "execution_count": null,
      "metadata": {
        "colab": {
          "base_uri": "https://localhost:8080/"
        },
        "id": "J6Cq0WHxcHi_",
        "outputId": "2a2a9049-b89f-49f8-976b-169893592075"
      },
      "outputs": [],
      "source": []
    },
    {
      "cell_type": "markdown",
      "metadata": {
        "id": "uCZ2ZScnM4dl"
      },
      "source": [
        "Now, we will use the same method to find the mean squared error for our predictions on the **testing** data. We will do this by comparing with the target values of testing data."
      ]
    },
    {
      "cell_type": "code",
      "execution_count": null,
      "metadata": {
        "id": "fdo44RbjcOkx"
      },
      "outputs": [],
      "source": []
    },
    {
      "cell_type": "markdown",
      "metadata": {
        "id": "Osf57hpeM7Fs"
      },
      "source": [
        "Print the testing mse"
      ]
    },
    {
      "cell_type": "code",
      "execution_count": null,
      "metadata": {
        "colab": {
          "base_uri": "https://localhost:8080/"
        },
        "id": "X0O7SWOtcOid",
        "outputId": "82e677b0-c06e-4871-d8be-174b0bdbb6f5"
      },
      "outputs": [],
      "source": []
    },
    {
      "cell_type": "markdown",
      "metadata": {
        "id": "o07VkSvtM-IQ"
      },
      "source": [
        "Great work! Lets visualise our predictions. Run the cells below."
      ]
    },
    {
      "cell_type": "code",
      "execution_count": null,
      "metadata": {
        "colab": {
          "base_uri": "https://localhost:8080/",
          "height": 564
        },
        "id": "0AiEft-0cOf_",
        "outputId": "b9b6cbb9-4b42-4c3e-ed6d-3341fd904df7"
      },
      "outputs": [],
      "source": [
        "plt.figure(figsize=(8, 6))\n",
        "plt.scatter(train_y, train_predictions, c='blue', label='Model Predictions')\n",
        "plt.plot([min(train_y), max(train_y)], [min(train_y), max(train_y)], linestyle='--', color='red', label='Perfect Prediction')\n",
        "plt.xlabel('True Values')\n",
        "plt.ylabel('Predicted Values')\n",
        "plt.title('Training True vs Predicted Values')\n",
        "plt.legend()\n",
        "plt.grid(True)\n",
        "plt.show()"
      ]
    },
    {
      "cell_type": "code",
      "execution_count": null,
      "metadata": {
        "colab": {
          "base_uri": "https://localhost:8080/",
          "height": 564
        },
        "id": "bfjUZzkQcOdq",
        "outputId": "3c6cf3cf-6280-4de9-80f0-0433907b3caf"
      },
      "outputs": [],
      "source": [
        "# Create a scatter plot\n",
        "plt.figure(figsize=(8, 6))\n",
        "plt.scatter(test_y, test_predictions, c='blue', label='Model Predictions')\n",
        "plt.plot([min(test_y), max(test_y)], [min(test_y), max(test_y)], linestyle='--', color='red', label='Perfect Prediction')\n",
        "plt.xlabel('True Values')\n",
        "plt.ylabel('Predicted Values')\n",
        "plt.title('Testing True vs Predicted Values')\n",
        "plt.legend()\n",
        "plt.grid(True)\n",
        "plt.show()"
      ]
    },
    {
      "cell_type": "markdown",
      "metadata": {
        "id": "BUwGTXMJNCfU"
      },
      "source": [
        "Now, lets use the '.predict()' method of LinearRegression to make a prediction on our first training example (at index 0). We can access a training example in a dataframe using '.iloc[]'"
      ]
    },
    {
      "cell_type": "code",
      "execution_count": null,
      "metadata": {
        "colab": {
          "base_uri": "https://localhost:8080/"
        },
        "id": "fDLwn97Wch_J",
        "outputId": "267611d0-6dff-49fb-b058-5a6d9da8b72a"
      },
      "outputs": [],
      "source": []
    },
    {
      "cell_type": "markdown",
      "metadata": {
        "id": "SnPwZAs9NFZK"
      },
      "source": [
        "Lets see what the true target value of our first training example."
      ]
    },
    {
      "cell_type": "code",
      "execution_count": null,
      "metadata": {
        "colab": {
          "base_uri": "https://localhost:8080/"
        },
        "id": "eKzUtymUdRY-",
        "outputId": "70db5b48-d18f-48a5-c52d-c6fa71579d2f"
      },
      "outputs": [],
      "source": []
    },
    {
      "cell_type": "markdown",
      "metadata": {
        "id": "cs68cA3yNHYq"
      },
      "source": [
        "# Congratulations on completing the workshop! You have successfully implemented Multiple linear regression.\n",
        "As we can see, multiple linear regression provides much more accurate predictions and better performance"
      ]
    }
  ],
  "metadata": {
    "colab": {
      "provenance": []
    },
    "kernelspec": {
      "display_name": "Python 3",
      "name": "python3"
    },
    "language_info": {
      "name": "python"
    }
  },
  "nbformat": 4,
  "nbformat_minor": 0
}
